{
 "cells": [
  {
   "cell_type": "code",
   "execution_count": 3,
   "metadata": {},
   "outputs": [
    {
     "data": {
      "text/html": [
       "<pre style=\"white-space:pre;overflow-x:auto;line-height:normal;font-family:Menlo,'DejaVu Sans Mono',consolas,'Courier New',monospace\"><span style=\"color: #7fbfbf; text-decoration-color: #7fbfbf\">[12/21/23 23:24:56] </span><span style=\"color: #000080; text-decoration-color: #000080\">INFO    </span> No custom team name replacements found. You can configure these in       <a href=\"file://c:\\Escritorio\\Personal_brand\\Data_Science\\Portfolio\\python_envs\\projects_env\\Lib\\site-packages\\soccerdata\\_config.py\" target=\"_blank\"><span style=\"color: #7f7f7f; text-decoration-color: #7f7f7f\">_config.py</span></a><span style=\"color: #7f7f7f; text-decoration-color: #7f7f7f\">:</span><a href=\"file://c:\\Escritorio\\Personal_brand\\Data_Science\\Portfolio\\python_envs\\projects_env\\Lib\\site-packages\\soccerdata\\_config.py#84\" target=\"_blank\"><span style=\"color: #7f7f7f; text-decoration-color: #7f7f7f\">84</span></a>\n",
       "<span style=\"color: #7fbfbf; text-decoration-color: #7fbfbf\">                    </span>         C:\\Users\\ofeli\\soccerdata\\config\\teamname_replacements.json.             <span style=\"color: #7f7f7f; text-decoration-color: #7f7f7f\">             </span>\n",
       "</pre>\n"
      ],
      "text/plain": [
       "\u001b[2;36m[12/21/23 23:24:56]\u001b[0m\u001b[2;36m \u001b[0m\u001b[34mINFO    \u001b[0m No custom team name replacements found. You can configure these in       \u001b]8;id=454644;file://c:\\Escritorio\\Personal_brand\\Data_Science\\Portfolio\\python_envs\\projects_env\\Lib\\site-packages\\soccerdata\\_config.py\u001b\\\u001b[2m_config.py\u001b[0m\u001b]8;;\u001b\\\u001b[2m:\u001b[0m\u001b]8;id=650134;file://c:\\Escritorio\\Personal_brand\\Data_Science\\Portfolio\\python_envs\\projects_env\\Lib\\site-packages\\soccerdata\\_config.py#84\u001b\\\u001b[2m84\u001b[0m\u001b]8;;\u001b\\\n",
       "\u001b[2;36m                    \u001b[0m         C:\\Users\\ofeli\\soccerdata\\config\\teamname_replacements.json.             \u001b[2m             \u001b[0m\n"
      ]
     },
     "metadata": {},
     "output_type": "display_data"
    },
    {
     "data": {
      "text/html": [
       "<pre style=\"white-space:pre;overflow-x:auto;line-height:normal;font-family:Menlo,'DejaVu Sans Mono',consolas,'Courier New',monospace\"><span style=\"color: #7fbfbf; text-decoration-color: #7fbfbf\">                    </span><span style=\"color: #000080; text-decoration-color: #000080\">INFO    </span> No custom league dict found. You can configure additional leagues in    <a href=\"file://c:\\Escritorio\\Personal_brand\\Data_Science\\Portfolio\\python_envs\\projects_env\\Lib\\site-packages\\soccerdata\\_config.py\" target=\"_blank\"><span style=\"color: #7f7f7f; text-decoration-color: #7f7f7f\">_config.py</span></a><span style=\"color: #7f7f7f; text-decoration-color: #7f7f7f\">:</span><a href=\"file://c:\\Escritorio\\Personal_brand\\Data_Science\\Portfolio\\python_envs\\projects_env\\Lib\\site-packages\\soccerdata\\_config.py#162\" target=\"_blank\"><span style=\"color: #7f7f7f; text-decoration-color: #7f7f7f\">162</span></a>\n",
       "<span style=\"color: #7fbfbf; text-decoration-color: #7fbfbf\">                    </span>         C:\\Users\\ofeli\\soccerdata\\config\\league_dict.json.                      <span style=\"color: #7f7f7f; text-decoration-color: #7f7f7f\">              </span>\n",
       "</pre>\n"
      ],
      "text/plain": [
       "\u001b[2;36m                   \u001b[0m\u001b[2;36m \u001b[0m\u001b[34mINFO    \u001b[0m No custom league dict found. You can configure additional leagues in    \u001b]8;id=937645;file://c:\\Escritorio\\Personal_brand\\Data_Science\\Portfolio\\python_envs\\projects_env\\Lib\\site-packages\\soccerdata\\_config.py\u001b\\\u001b[2m_config.py\u001b[0m\u001b]8;;\u001b\\\u001b[2m:\u001b[0m\u001b]8;id=455295;file://c:\\Escritorio\\Personal_brand\\Data_Science\\Portfolio\\python_envs\\projects_env\\Lib\\site-packages\\soccerdata\\_config.py#162\u001b\\\u001b[2m162\u001b[0m\u001b]8;;\u001b\\\n",
       "\u001b[2;36m                    \u001b[0m         C:\\Users\\ofeli\\soccerdata\\config\\league_dict.json.                      \u001b[2m              \u001b[0m\n"
      ]
     },
     "metadata": {},
     "output_type": "display_data"
    },
    {
     "data": {
      "text/html": [
       "<pre style=\"white-space:pre;overflow-x:auto;line-height:normal;font-family:Menlo,'DejaVu Sans Mono',consolas,'Courier New',monospace\"><span style=\"color: #7fbfbf; text-decoration-color: #7fbfbf\">                    </span><span style=\"color: #000080; text-decoration-color: #000080\">INFO    </span> Saving cached data to C:\\Users\\ofeli\\soccerdata\\data\\FBref               <a href=\"file://c:\\Escritorio\\Personal_brand\\Data_Science\\Portfolio\\python_envs\\projects_env\\Lib\\site-packages\\soccerdata\\_common.py\" target=\"_blank\"><span style=\"color: #7f7f7f; text-decoration-color: #7f7f7f\">_common.py</span></a><span style=\"color: #7f7f7f; text-decoration-color: #7f7f7f\">:</span><a href=\"file://c:\\Escritorio\\Personal_brand\\Data_Science\\Portfolio\\python_envs\\projects_env\\Lib\\site-packages\\soccerdata\\_common.py#91\" target=\"_blank\"><span style=\"color: #7f7f7f; text-decoration-color: #7f7f7f\">91</span></a>\n",
       "</pre>\n"
      ],
      "text/plain": [
       "\u001b[2;36m                   \u001b[0m\u001b[2;36m \u001b[0m\u001b[34mINFO    \u001b[0m Saving cached data to C:\\Users\\ofeli\\soccerdata\\data\\FBref               \u001b]8;id=947780;file://c:\\Escritorio\\Personal_brand\\Data_Science\\Portfolio\\python_envs\\projects_env\\Lib\\site-packages\\soccerdata\\_common.py\u001b\\\u001b[2m_common.py\u001b[0m\u001b]8;;\u001b\\\u001b[2m:\u001b[0m\u001b]8;id=366570;file://c:\\Escritorio\\Personal_brand\\Data_Science\\Portfolio\\python_envs\\projects_env\\Lib\\site-packages\\soccerdata\\_common.py#91\u001b\\\u001b[2m91\u001b[0m\u001b]8;;\u001b\\\n"
      ]
     },
     "metadata": {},
     "output_type": "display_data"
    },
    {
     "name": "stderr",
     "output_type": "stream",
     "text": [
      "c:\\Escritorio\\Personal_brand\\Data_Science\\Portfolio\\python_envs\\projects_env\\Lib\\site-packages\\soccerdata\\_common.py:482: UserWarning: Season id \"2021\" is ambiguous: interpreting as \"20-21\"\n",
      "  warnings.warn(msg, stacklevel=1)\n"
     ]
    }
   ],
   "source": [
    "import soccerdata as sd\n",
    "\n",
    "fbref = sd.FBref(leagues=\"ENG-Premier League\", seasons=2021)\n"
   ]
  },
  {
   "cell_type": "code",
   "execution_count": 70,
   "metadata": {},
   "outputs": [],
   "source": [
    "team_match_stat_types=['schedule',\n",
    "                        'keeper',\n",
    "                        'shooting',\n",
    "                        'passing',\n",
    "                        'passing_types',\n",
    "                        'goal_shot_creation',\n",
    "                        'defense',\n",
    "                        'possession',\n",
    "                        'misc'\n",
    "                        ]\n",
    "\n",
    "\n",
    "for stat_type in team_match_stat_types:\n",
    "    team_match_stats=fbref.read_team_match_stats(stat_type=stat_type)\n",
    "    try:\n",
    "        team_match_stats2=team_match_stats.droplevel(0, axis=1)\n",
    "        team_match_stats2.columns=[col[0]+\"_\"+col[1] for col in team_match_stats.columns]\n",
    "    except:\n",
    "        pass\n",
    "    \n",
    "    team_match_stats2=team_match_stats2.reset_index()\n",
    "    \n",
    "    team_match_stats2.to_csv(\"../data/team_match_stats_\"+stat_type+\".csv\", index=False)\n",
    "\n",
    "\n"
   ]
  },
  {
   "cell_type": "code",
   "execution_count": 71,
   "metadata": {},
   "outputs": [],
   "source": [
    "team_season_stat_types=['standard',\n",
    "                        'keeper',\n",
    "                        'keeper_adv',\n",
    "                        'shooting',\n",
    "                        'passing',\n",
    "                        'passing_types',\n",
    "                        'goal_shot_creation',\n",
    "                        'defense',\n",
    "                        'possession',\n",
    "                        'playing_time',\n",
    "                        'misc'\n",
    "                        ]\n",
    "for stat_type in team_season_stat_types:\n",
    "    team_season_stats=fbref.read_team_season_stats(stat_type=stat_type)\n",
    "    try:\n",
    "        team_season_stats2=team_season_stats.droplevel(0, axis=1)\n",
    "        team_season_stats2.columns=[col[0]+\"_\"+col[1] for col in team_season_stats.columns]\n",
    "    except:\n",
    "        pass\n",
    "    \n",
    "    team_season_stats2=team_season_stats2.reset_index()\n",
    "    \n",
    "    team_season_stats2.to_csv(\"../data/team_season_stats_\"+stat_type+\".csv\", index=False)\n",
    "\n",
    "\n"
   ]
  },
  {
   "cell_type": "code",
   "execution_count": 73,
   "metadata": {},
   "outputs": [],
   "source": [
    "player_season_stat_types=[\n",
    "                    'standard',\n",
    "                    'shooting',\n",
    "                    'passing',\n",
    "                    'passing_types',\n",
    "                    'goal_shot_creation',\n",
    "                    'defense',\n",
    "                    'possession',\n",
    "                    'playing_time',\n",
    "                    'misc',\n",
    "                    'keeper',\n",
    "                    'keeper_adv'\n",
    "\n",
    "                    ]\n",
    "\n",
    "for stat_type in player_season_stat_types:\n",
    "    players_season_stats=fbref.read_player_season_stats(stat_type=stat_type)\n",
    "    try:\n",
    "        players_season_stats2=players_season_stats.droplevel(0, axis=1)\n",
    "        players_season_stats2.columns=[col[0]+\"_\"+col[1] for col in players_season_stats.columns]\n",
    "    except:\n",
    "        pass\n",
    "    \n",
    "    players_season_stats2=players_season_stats2.reset_index()\n",
    "    \n",
    "    players_season_stats2.to_csv(\"../data/players_season_stats_\"+stat_type+\".csv\", index=False)\n",
    "\n",
    "\n"
   ]
  },
  {
   "cell_type": "code",
   "execution_count": null,
   "metadata": {},
   "outputs": [],
   "source": [
    "player_match_stat_types=['summary',\n",
    "'keepers',\n",
    "'passing',\n",
    "'passing_types',\n",
    "'defense',\n",
    "'possession',\n",
    "'misc']\n",
    "\n",
    "for stat_type in player_match_stat_types:\n",
    "    players_match_stats=fbref.read_player_match_stats(stat_type=stat_type)\n",
    "    try:\n",
    "        players_match_stats2=players_match_stats.droplevel(0, axis=1)\n",
    "        players_match_stats2.columns=[col[0]+\"_\"+col[1] for col in players_match_stats.columns]\n",
    "    except:\n",
    "        pass\n",
    "    \n",
    "    players_match_stats2=players_match_stats2.reset_index()\n",
    "    \n",
    "    players_match_stats2.to_csv(\"../data/players_match_stats_\"+stat_type+\".csv\", index=False)\n",
    "\n"
   ]
  },
  {
   "cell_type": "code",
   "execution_count": 7,
   "metadata": {},
   "outputs": [],
   "source": [
    "\n",
    "def process_team_season_stats(fbref, stat_type):\n",
    "    team_season_stats = fbref.read_team_season_stats(stat_type=stat_type)\n",
    "    try:\n",
    "        team_season_stats2 = team_season_stats.droplevel(0, axis=1)\n",
    "        team_season_stats2.columns = [col[0] + \"_\" + col[1] for col in team_season_stats.columns]\n",
    "    except:\n",
    "        pass\n",
    "\n",
    "    team_season_stats2 = team_season_stats2.reset_index()\n",
    "\n",
    "    #team_season_stats2.to_csv(\"../data/team_season_stats_\" + stat_type + \".csv\", index=False)\n",
    "    #team_season_stats2.to_csv(\"../data/team_season_stats_\" + stat_type + \".csv\", index=False)\n",
    "    file_name=\"team_season_stats_\" + stat_type + \".csv\"\n",
    "    team_season_stats2.to_csv('abfs://fbref-data@storaccoprojectsdataeng.dfs.core.windows.net/raw_data/' + file_name,\n",
    "                storage_options={\n",
    "                    'account_key': 'DClO+P5yffQRLw2poxM4/meEQiSKI3HlbYxcPjX+l2RP04l7i3/lcqjnCuna6rSIejapOqMiLBwD+AStuGjjGA=='\n",
    "                }, index=False)\n",
    "\n",
    "\n",
    "def process_players_season_stats(fbref, stat_type):\n",
    "    players_season_stats = fbref.read_player_season_stats(stat_type=stat_type)\n",
    "    try:\n",
    "        players_season_stats2 = players_season_stats.droplevel(0, axis=1)\n",
    "        players_season_stats2.columns = [col[0] + \"_\" + col[1] for col in players_season_stats.columns]\n",
    "    except:\n",
    "        pass\n",
    "\n",
    "    players_season_stats2 = players_season_stats2.reset_index()\n",
    "\n",
    "    players_season_stats2.to_csv(\"../data/players_season_stats_\" + stat_type + \".csv\", index=False)\n",
    "\n",
    "def process_players_match_stats(fbref, stat_type):\n",
    "    players_match_stats = fbref.read_player_match_stats(stat_type=stat_type)\n",
    "    try:\n",
    "        players_match_stats2 = players_match_stats.droplevel(0, axis=1)\n",
    "        players_match_stats2.columns = [col[0] + \"_\" + col[1] for col in players_match_stats.columns]\n",
    "    except:\n",
    "        pass\n",
    "\n",
    "    players_match_stats2 = players_match_stats2.reset_index()\n",
    "\n",
    "    players_match_stats2.to_csv(\"../data/players_match_stats_\" + stat_type + \".csv\", index=False)\n"
   ]
  },
  {
   "cell_type": "code",
   "execution_count": 8,
   "metadata": {},
   "outputs": [
    {
     "data": {
      "text/html": [
       "<pre style=\"white-space:pre;overflow-x:auto;line-height:normal;font-family:Menlo,'DejaVu Sans Mono',consolas,'Courier New',monospace\"><span style=\"color: #7fbfbf; text-decoration-color: #7fbfbf\">[12/21/23 23:28:18] </span><span style=\"color: #000080; text-decoration-color: #000080\">INFO    </span> Request URL:                                                         <a href=\"file://c:\\Escritorio\\Personal_brand\\Data_Science\\Portfolio\\python_envs\\projects_env\\Lib\\site-packages\\azure\\core\\pipeline\\policies\\_universal.py\" target=\"_blank\"><span style=\"color: #7f7f7f; text-decoration-color: #7f7f7f\">_universal.py</span></a><span style=\"color: #7f7f7f; text-decoration-color: #7f7f7f\">:</span><a href=\"file://c:\\Escritorio\\Personal_brand\\Data_Science\\Portfolio\\python_envs\\projects_env\\Lib\\site-packages\\azure\\core\\pipeline\\policies\\_universal.py#514\" target=\"_blank\"><span style=\"color: #7f7f7f; text-decoration-color: #7f7f7f\">514</span></a>\n",
       "<span style=\"color: #7fbfbf; text-decoration-color: #7fbfbf\">                    </span>         <span style=\"color: #008000; text-decoration-color: #008000\">'https://storaccoprojectsdataeng.blob.core.windows.net/fbref-data/da</span> <span style=\"color: #7f7f7f; text-decoration-color: #7f7f7f\">                 </span>\n",
       "<span style=\"color: #7fbfbf; text-decoration-color: #7fbfbf\">                    </span>         <span style=\"color: #008000; text-decoration-color: #008000\">ta/team_season_stats_standard.csv'</span>                                   <span style=\"color: #7f7f7f; text-decoration-color: #7f7f7f\">                 </span>\n",
       "<span style=\"color: #7fbfbf; text-decoration-color: #7fbfbf\">                    </span>         Request method: <span style=\"color: #008000; text-decoration-color: #008000\">'</span><span style=\"color: #808000; text-decoration-color: #808000; font-weight: bold\">DELETE</span><span style=\"color: #008000; text-decoration-color: #008000\">'</span>                                             <span style=\"color: #7f7f7f; text-decoration-color: #7f7f7f\">                 </span>\n",
       "<span style=\"color: #7fbfbf; text-decoration-color: #7fbfbf\">                    </span>         Request headers:                                                     <span style=\"color: #7f7f7f; text-decoration-color: #7f7f7f\">                 </span>\n",
       "<span style=\"color: #7fbfbf; text-decoration-color: #7fbfbf\">                    </span>             <span style=\"color: #008000; text-decoration-color: #008000\">'x-ms-version'</span>: <span style=\"color: #008000; text-decoration-color: #008000\">'REDACTED'</span>                                       <span style=\"color: #7f7f7f; text-decoration-color: #7f7f7f\">                 </span>\n",
       "<span style=\"color: #7fbfbf; text-decoration-color: #7fbfbf\">                    </span>             <span style=\"color: #008000; text-decoration-color: #008000\">'Accept'</span>: <span style=\"color: #008000; text-decoration-color: #008000\">'application/xml'</span>                                      <span style=\"color: #7f7f7f; text-decoration-color: #7f7f7f\">                 </span>\n",
       "<span style=\"color: #7fbfbf; text-decoration-color: #7fbfbf\">                    </span>             <span style=\"color: #008000; text-decoration-color: #008000\">'x-ms-date'</span>: <span style=\"color: #008000; text-decoration-color: #008000\">'REDACTED'</span>                                          <span style=\"color: #7f7f7f; text-decoration-color: #7f7f7f\">                 </span>\n",
       "<span style=\"color: #7fbfbf; text-decoration-color: #7fbfbf\">                    </span>             <span style=\"color: #008000; text-decoration-color: #008000\">'x-ms-client-request-id'</span>: <span style=\"color: #008000; text-decoration-color: #008000\">'87e800b2-a082-11ee-af46-28cdc44cfc2c'</span> <span style=\"color: #7f7f7f; text-decoration-color: #7f7f7f\">                 </span>\n",
       "<span style=\"color: #7fbfbf; text-decoration-color: #7fbfbf\">                    </span>             <span style=\"color: #008000; text-decoration-color: #008000\">'User-Agent'</span>: <span style=\"color: #008000; text-decoration-color: #008000\">'azsdk-python-storage-blob/12.19.0 Python/3.11.4 </span>  <span style=\"color: #7f7f7f; text-decoration-color: #7f7f7f\">                 </span>\n",
       "<span style=\"color: #7fbfbf; text-decoration-color: #7fbfbf\">                    </span>         <span style=\"color: #008000; text-decoration-color: #008000\">(Windows-10-10.0.22621-SP0)'</span>                                         <span style=\"color: #7f7f7f; text-decoration-color: #7f7f7f\">                 </span>\n",
       "<span style=\"color: #7fbfbf; text-decoration-color: #7fbfbf\">                    </span>             <span style=\"color: #008000; text-decoration-color: #008000\">'Authorization'</span>: <span style=\"color: #008000; text-decoration-color: #008000\">'REDACTED'</span>                                      <span style=\"color: #7f7f7f; text-decoration-color: #7f7f7f\">                 </span>\n",
       "<span style=\"color: #7fbfbf; text-decoration-color: #7fbfbf\">                    </span>         No body was attached to the request                                  <span style=\"color: #7f7f7f; text-decoration-color: #7f7f7f\">                 </span>\n",
       "</pre>\n"
      ],
      "text/plain": [
       "\u001b[2;36m[12/21/23 23:28:18]\u001b[0m\u001b[2;36m \u001b[0m\u001b[34mINFO    \u001b[0m Request URL:                                                         \u001b]8;id=718490;file://c:\\Escritorio\\Personal_brand\\Data_Science\\Portfolio\\python_envs\\projects_env\\Lib\\site-packages\\azure\\core\\pipeline\\policies\\_universal.py\u001b\\\u001b[2m_universal.py\u001b[0m\u001b]8;;\u001b\\\u001b[2m:\u001b[0m\u001b]8;id=735540;file://c:\\Escritorio\\Personal_brand\\Data_Science\\Portfolio\\python_envs\\projects_env\\Lib\\site-packages\\azure\\core\\pipeline\\policies\\_universal.py#514\u001b\\\u001b[2m514\u001b[0m\u001b]8;;\u001b\\\n",
       "\u001b[2;36m                    \u001b[0m         \u001b[32m'https://storaccoprojectsdataeng.blob.core.windows.net/fbref-data/da\u001b[0m \u001b[2m                 \u001b[0m\n",
       "\u001b[2;36m                    \u001b[0m         \u001b[32mta/team_season_stats_standard.csv'\u001b[0m                                   \u001b[2m                 \u001b[0m\n",
       "\u001b[2;36m                    \u001b[0m         Request method: \u001b[32m'\u001b[0m\u001b[1;33mDELETE\u001b[0m\u001b[32m'\u001b[0m                                             \u001b[2m                 \u001b[0m\n",
       "\u001b[2;36m                    \u001b[0m         Request headers:                                                     \u001b[2m                 \u001b[0m\n",
       "\u001b[2;36m                    \u001b[0m             \u001b[32m'x-ms-version'\u001b[0m: \u001b[32m'REDACTED'\u001b[0m                                       \u001b[2m                 \u001b[0m\n",
       "\u001b[2;36m                    \u001b[0m             \u001b[32m'Accept'\u001b[0m: \u001b[32m'application/xml'\u001b[0m                                      \u001b[2m                 \u001b[0m\n",
       "\u001b[2;36m                    \u001b[0m             \u001b[32m'x-ms-date'\u001b[0m: \u001b[32m'REDACTED'\u001b[0m                                          \u001b[2m                 \u001b[0m\n",
       "\u001b[2;36m                    \u001b[0m             \u001b[32m'x-ms-client-request-id'\u001b[0m: \u001b[32m'87e800b2-a082-11ee-af46-28cdc44cfc2c'\u001b[0m \u001b[2m                 \u001b[0m\n",
       "\u001b[2;36m                    \u001b[0m             \u001b[32m'User-Agent'\u001b[0m: \u001b[32m'azsdk-python-storage-blob/12.19.0 Python/3.11.4 \u001b[0m  \u001b[2m                 \u001b[0m\n",
       "\u001b[2;36m                    \u001b[0m         \u001b[32m(\u001b[0m\u001b[32mWindows-10-10.0.22621-SP0\u001b[0m\u001b[32m)\u001b[0m\u001b[32m'\u001b[0m                                         \u001b[2m                 \u001b[0m\n",
       "\u001b[2;36m                    \u001b[0m             \u001b[32m'Authorization'\u001b[0m: \u001b[32m'REDACTED'\u001b[0m                                      \u001b[2m                 \u001b[0m\n",
       "\u001b[2;36m                    \u001b[0m         No body was attached to the request                                  \u001b[2m                 \u001b[0m\n"
      ]
     },
     "metadata": {},
     "output_type": "display_data"
    },
    {
     "data": {
      "text/html": [
       "<pre style=\"white-space:pre;overflow-x:auto;line-height:normal;font-family:Menlo,'DejaVu Sans Mono',consolas,'Courier New',monospace\"><span style=\"color: #7fbfbf; text-decoration-color: #7fbfbf\">                    </span><span style=\"color: #000080; text-decoration-color: #000080\">INFO    </span> Response status: <span style=\"color: #008080; text-decoration-color: #008080; font-weight: bold\">404</span>                                                 <a href=\"file://c:\\Escritorio\\Personal_brand\\Data_Science\\Portfolio\\python_envs\\projects_env\\Lib\\site-packages\\azure\\core\\pipeline\\policies\\_universal.py\" target=\"_blank\"><span style=\"color: #7f7f7f; text-decoration-color: #7f7f7f\">_universal.py</span></a><span style=\"color: #7f7f7f; text-decoration-color: #7f7f7f\">:</span><a href=\"file://c:\\Escritorio\\Personal_brand\\Data_Science\\Portfolio\\python_envs\\projects_env\\Lib\\site-packages\\azure\\core\\pipeline\\policies\\_universal.py#550\" target=\"_blank\"><span style=\"color: #7f7f7f; text-decoration-color: #7f7f7f\">550</span></a>\n",
       "<span style=\"color: #7fbfbf; text-decoration-color: #7fbfbf\">                    </span>         Response headers:                                                    <span style=\"color: #7f7f7f; text-decoration-color: #7f7f7f\">                 </span>\n",
       "<span style=\"color: #7fbfbf; text-decoration-color: #7fbfbf\">                    </span>             <span style=\"color: #008000; text-decoration-color: #008000\">'Content-Length'</span>: <span style=\"color: #008000; text-decoration-color: #008000\">'215'</span>                                          <span style=\"color: #7f7f7f; text-decoration-color: #7f7f7f\">                 </span>\n",
       "<span style=\"color: #7fbfbf; text-decoration-color: #7fbfbf\">                    </span>             <span style=\"color: #008000; text-decoration-color: #008000\">'Content-Type'</span>: <span style=\"color: #008000; text-decoration-color: #008000\">'application/xml'</span>                                <span style=\"color: #7f7f7f; text-decoration-color: #7f7f7f\">                 </span>\n",
       "<span style=\"color: #7fbfbf; text-decoration-color: #7fbfbf\">                    </span>             <span style=\"color: #008000; text-decoration-color: #008000\">'Server'</span>: <span style=\"color: #008000; text-decoration-color: #008000\">'Windows-Azure-Blob/1.0 Microsoft-HTTPAPI/2.0'</span>         <span style=\"color: #7f7f7f; text-decoration-color: #7f7f7f\">                 </span>\n",
       "<span style=\"color: #7fbfbf; text-decoration-color: #7fbfbf\">                    </span>             <span style=\"color: #008000; text-decoration-color: #008000\">'x-ms-request-id'</span>: <span style=\"color: #008000; text-decoration-color: #008000\">'4880b7ae-301e-0019-428f-340997000000'</span>        <span style=\"color: #7f7f7f; text-decoration-color: #7f7f7f\">                 </span>\n",
       "<span style=\"color: #7fbfbf; text-decoration-color: #7fbfbf\">                    </span>             <span style=\"color: #008000; text-decoration-color: #008000\">'x-ms-client-request-id'</span>: <span style=\"color: #008000; text-decoration-color: #008000\">'87e800b2-a082-11ee-af46-28cdc44cfc2c'</span> <span style=\"color: #7f7f7f; text-decoration-color: #7f7f7f\">                 </span>\n",
       "<span style=\"color: #7fbfbf; text-decoration-color: #7fbfbf\">                    </span>             <span style=\"color: #008000; text-decoration-color: #008000\">'x-ms-version'</span>: <span style=\"color: #008000; text-decoration-color: #008000\">'REDACTED'</span>                                       <span style=\"color: #7f7f7f; text-decoration-color: #7f7f7f\">                 </span>\n",
       "<span style=\"color: #7fbfbf; text-decoration-color: #7fbfbf\">                    </span>             <span style=\"color: #008000; text-decoration-color: #008000\">'x-ms-error-code'</span>: <span style=\"color: #008000; text-decoration-color: #008000\">'BlobNotFound'</span>                                <span style=\"color: #7f7f7f; text-decoration-color: #7f7f7f\">                 </span>\n",
       "<span style=\"color: #7fbfbf; text-decoration-color: #7fbfbf\">                    </span>             <span style=\"color: #008000; text-decoration-color: #008000\">'Date'</span>: <span style=\"color: #008000; text-decoration-color: #008000\">'Fri, 22 Dec 2023 04:28:14 GMT'</span>                          <span style=\"color: #7f7f7f; text-decoration-color: #7f7f7f\">                 </span>\n",
       "</pre>\n"
      ],
      "text/plain": [
       "\u001b[2;36m                   \u001b[0m\u001b[2;36m \u001b[0m\u001b[34mINFO    \u001b[0m Response status: \u001b[1;36m404\u001b[0m                                                 \u001b]8;id=666855;file://c:\\Escritorio\\Personal_brand\\Data_Science\\Portfolio\\python_envs\\projects_env\\Lib\\site-packages\\azure\\core\\pipeline\\policies\\_universal.py\u001b\\\u001b[2m_universal.py\u001b[0m\u001b]8;;\u001b\\\u001b[2m:\u001b[0m\u001b]8;id=55043;file://c:\\Escritorio\\Personal_brand\\Data_Science\\Portfolio\\python_envs\\projects_env\\Lib\\site-packages\\azure\\core\\pipeline\\policies\\_universal.py#550\u001b\\\u001b[2m550\u001b[0m\u001b]8;;\u001b\\\n",
       "\u001b[2;36m                    \u001b[0m         Response headers:                                                    \u001b[2m                 \u001b[0m\n",
       "\u001b[2;36m                    \u001b[0m             \u001b[32m'Content-Length'\u001b[0m: \u001b[32m'215'\u001b[0m                                          \u001b[2m                 \u001b[0m\n",
       "\u001b[2;36m                    \u001b[0m             \u001b[32m'Content-Type'\u001b[0m: \u001b[32m'application/xml'\u001b[0m                                \u001b[2m                 \u001b[0m\n",
       "\u001b[2;36m                    \u001b[0m             \u001b[32m'Server'\u001b[0m: \u001b[32m'Windows-Azure-Blob/1.0 Microsoft-HTTPAPI/2.0'\u001b[0m         \u001b[2m                 \u001b[0m\n",
       "\u001b[2;36m                    \u001b[0m             \u001b[32m'x-ms-request-id'\u001b[0m: \u001b[32m'4880b7ae-301e-0019-428f-340997000000'\u001b[0m        \u001b[2m                 \u001b[0m\n",
       "\u001b[2;36m                    \u001b[0m             \u001b[32m'x-ms-client-request-id'\u001b[0m: \u001b[32m'87e800b2-a082-11ee-af46-28cdc44cfc2c'\u001b[0m \u001b[2m                 \u001b[0m\n",
       "\u001b[2;36m                    \u001b[0m             \u001b[32m'x-ms-version'\u001b[0m: \u001b[32m'REDACTED'\u001b[0m                                       \u001b[2m                 \u001b[0m\n",
       "\u001b[2;36m                    \u001b[0m             \u001b[32m'x-ms-error-code'\u001b[0m: \u001b[32m'BlobNotFound'\u001b[0m                                \u001b[2m                 \u001b[0m\n",
       "\u001b[2;36m                    \u001b[0m             \u001b[32m'Date'\u001b[0m: \u001b[32m'Fri, 22 Dec 2023 04:28:14 GMT'\u001b[0m                          \u001b[2m                 \u001b[0m\n"
      ]
     },
     "metadata": {},
     "output_type": "display_data"
    },
    {
     "data": {
      "text/html": [
       "<pre style=\"white-space:pre;overflow-x:auto;line-height:normal;font-family:Menlo,'DejaVu Sans Mono',consolas,'Courier New',monospace\"><span style=\"color: #7fbfbf; text-decoration-color: #7fbfbf\">                    </span><span style=\"color: #000080; text-decoration-color: #000080\">INFO    </span> Request URL:                                                         <a href=\"file://c:\\Escritorio\\Personal_brand\\Data_Science\\Portfolio\\python_envs\\projects_env\\Lib\\site-packages\\azure\\core\\pipeline\\policies\\_universal.py\" target=\"_blank\"><span style=\"color: #7f7f7f; text-decoration-color: #7f7f7f\">_universal.py</span></a><span style=\"color: #7f7f7f; text-decoration-color: #7f7f7f\">:</span><a href=\"file://c:\\Escritorio\\Personal_brand\\Data_Science\\Portfolio\\python_envs\\projects_env\\Lib\\site-packages\\azure\\core\\pipeline\\policies\\_universal.py#511\" target=\"_blank\"><span style=\"color: #7f7f7f; text-decoration-color: #7f7f7f\">511</span></a>\n",
       "<span style=\"color: #7fbfbf; text-decoration-color: #7fbfbf\">                    </span>         <span style=\"color: #008000; text-decoration-color: #008000\">'https://storaccoprojectsdataeng.blob.core.windows.net/fbref-data/da</span> <span style=\"color: #7f7f7f; text-decoration-color: #7f7f7f\">                 </span>\n",
       "<span style=\"color: #7fbfbf; text-decoration-color: #7fbfbf\">                    </span>         <span style=\"color: #008000; text-decoration-color: #008000\">ta/team_season_stats_standard.csv?comp=REDACTED&amp;blockid=REDACTED'</span>    <span style=\"color: #7f7f7f; text-decoration-color: #7f7f7f\">                 </span>\n",
       "<span style=\"color: #7fbfbf; text-decoration-color: #7fbfbf\">                    </span>         Request method: <span style=\"color: #008000; text-decoration-color: #008000\">'</span><span style=\"color: #808000; text-decoration-color: #808000; font-weight: bold\">PUT</span><span style=\"color: #008000; text-decoration-color: #008000\">'</span>                                                <span style=\"color: #7f7f7f; text-decoration-color: #7f7f7f\">                 </span>\n",
       "<span style=\"color: #7fbfbf; text-decoration-color: #7fbfbf\">                    </span>         Request headers:                                                     <span style=\"color: #7f7f7f; text-decoration-color: #7f7f7f\">                 </span>\n",
       "<span style=\"color: #7fbfbf; text-decoration-color: #7fbfbf\">                    </span>             <span style=\"color: #008000; text-decoration-color: #008000\">'Content-Length'</span>: <span style=\"color: #008000; text-decoration-color: #008000\">'4829'</span>                                         <span style=\"color: #7f7f7f; text-decoration-color: #7f7f7f\">                 </span>\n",
       "<span style=\"color: #7fbfbf; text-decoration-color: #7fbfbf\">                    </span>             <span style=\"color: #008000; text-decoration-color: #008000\">'x-ms-version'</span>: <span style=\"color: #008000; text-decoration-color: #008000\">'REDACTED'</span>                                       <span style=\"color: #7f7f7f; text-decoration-color: #7f7f7f\">                 </span>\n",
       "<span style=\"color: #7fbfbf; text-decoration-color: #7fbfbf\">                    </span>             <span style=\"color: #008000; text-decoration-color: #008000\">'Content-Type'</span>: <span style=\"color: #008000; text-decoration-color: #008000\">'application/octet-stream'</span>                       <span style=\"color: #7f7f7f; text-decoration-color: #7f7f7f\">                 </span>\n",
       "<span style=\"color: #7fbfbf; text-decoration-color: #7fbfbf\">                    </span>             <span style=\"color: #008000; text-decoration-color: #008000\">'Accept'</span>: <span style=\"color: #008000; text-decoration-color: #008000\">'application/xml'</span>                                      <span style=\"color: #7f7f7f; text-decoration-color: #7f7f7f\">                 </span>\n",
       "<span style=\"color: #7fbfbf; text-decoration-color: #7fbfbf\">                    </span>             <span style=\"color: #008000; text-decoration-color: #008000\">'x-ms-date'</span>: <span style=\"color: #008000; text-decoration-color: #008000\">'REDACTED'</span>                                          <span style=\"color: #7f7f7f; text-decoration-color: #7f7f7f\">                 </span>\n",
       "<span style=\"color: #7fbfbf; text-decoration-color: #7fbfbf\">                    </span>             <span style=\"color: #008000; text-decoration-color: #008000\">'x-ms-client-request-id'</span>: <span style=\"color: #008000; text-decoration-color: #008000\">'88684c5f-a082-11ee-89cd-28cdc44cfc2c'</span> <span style=\"color: #7f7f7f; text-decoration-color: #7f7f7f\">                 </span>\n",
       "<span style=\"color: #7fbfbf; text-decoration-color: #7fbfbf\">                    </span>             <span style=\"color: #008000; text-decoration-color: #008000\">'User-Agent'</span>: <span style=\"color: #008000; text-decoration-color: #008000\">'azsdk-python-storage-blob/12.19.0 Python/3.11.4 </span>  <span style=\"color: #7f7f7f; text-decoration-color: #7f7f7f\">                 </span>\n",
       "<span style=\"color: #7fbfbf; text-decoration-color: #7fbfbf\">                    </span>         <span style=\"color: #008000; text-decoration-color: #008000\">(Windows-10-10.0.22621-SP0)'</span>                                         <span style=\"color: #7f7f7f; text-decoration-color: #7f7f7f\">                 </span>\n",
       "<span style=\"color: #7fbfbf; text-decoration-color: #7fbfbf\">                    </span>             <span style=\"color: #008000; text-decoration-color: #008000\">'Authorization'</span>: <span style=\"color: #008000; text-decoration-color: #008000\">'REDACTED'</span>                                      <span style=\"color: #7f7f7f; text-decoration-color: #7f7f7f\">                 </span>\n",
       "<span style=\"color: #7fbfbf; text-decoration-color: #7fbfbf\">                    </span>         A body is sent with the request                                      <span style=\"color: #7f7f7f; text-decoration-color: #7f7f7f\">                 </span>\n",
       "</pre>\n"
      ],
      "text/plain": [
       "\u001b[2;36m                   \u001b[0m\u001b[2;36m \u001b[0m\u001b[34mINFO    \u001b[0m Request URL:                                                         \u001b]8;id=557015;file://c:\\Escritorio\\Personal_brand\\Data_Science\\Portfolio\\python_envs\\projects_env\\Lib\\site-packages\\azure\\core\\pipeline\\policies\\_universal.py\u001b\\\u001b[2m_universal.py\u001b[0m\u001b]8;;\u001b\\\u001b[2m:\u001b[0m\u001b]8;id=818014;file://c:\\Escritorio\\Personal_brand\\Data_Science\\Portfolio\\python_envs\\projects_env\\Lib\\site-packages\\azure\\core\\pipeline\\policies\\_universal.py#511\u001b\\\u001b[2m511\u001b[0m\u001b]8;;\u001b\\\n",
       "\u001b[2;36m                    \u001b[0m         \u001b[32m'https://storaccoprojectsdataeng.blob.core.windows.net/fbref-data/da\u001b[0m \u001b[2m                 \u001b[0m\n",
       "\u001b[2;36m                    \u001b[0m         \u001b[32mta/team_season_stats_standard.csv?\u001b[0m\u001b[32mcomp\u001b[0m\u001b[32m=\u001b[0m\u001b[32mREDACTED\u001b[0m\u001b[32m&\u001b[0m\u001b[32mblockid\u001b[0m\u001b[32m=\u001b[0m\u001b[32mREDACTED\u001b[0m\u001b[32m'\u001b[0m    \u001b[2m                 \u001b[0m\n",
       "\u001b[2;36m                    \u001b[0m         Request method: \u001b[32m'\u001b[0m\u001b[1;33mPUT\u001b[0m\u001b[32m'\u001b[0m                                                \u001b[2m                 \u001b[0m\n",
       "\u001b[2;36m                    \u001b[0m         Request headers:                                                     \u001b[2m                 \u001b[0m\n",
       "\u001b[2;36m                    \u001b[0m             \u001b[32m'Content-Length'\u001b[0m: \u001b[32m'4829'\u001b[0m                                         \u001b[2m                 \u001b[0m\n",
       "\u001b[2;36m                    \u001b[0m             \u001b[32m'x-ms-version'\u001b[0m: \u001b[32m'REDACTED'\u001b[0m                                       \u001b[2m                 \u001b[0m\n",
       "\u001b[2;36m                    \u001b[0m             \u001b[32m'Content-Type'\u001b[0m: \u001b[32m'application/octet-stream'\u001b[0m                       \u001b[2m                 \u001b[0m\n",
       "\u001b[2;36m                    \u001b[0m             \u001b[32m'Accept'\u001b[0m: \u001b[32m'application/xml'\u001b[0m                                      \u001b[2m                 \u001b[0m\n",
       "\u001b[2;36m                    \u001b[0m             \u001b[32m'x-ms-date'\u001b[0m: \u001b[32m'REDACTED'\u001b[0m                                          \u001b[2m                 \u001b[0m\n",
       "\u001b[2;36m                    \u001b[0m             \u001b[32m'x-ms-client-request-id'\u001b[0m: \u001b[32m'88684c5f-a082-11ee-89cd-28cdc44cfc2c'\u001b[0m \u001b[2m                 \u001b[0m\n",
       "\u001b[2;36m                    \u001b[0m             \u001b[32m'User-Agent'\u001b[0m: \u001b[32m'azsdk-python-storage-blob/12.19.0 Python/3.11.4 \u001b[0m  \u001b[2m                 \u001b[0m\n",
       "\u001b[2;36m                    \u001b[0m         \u001b[32m(\u001b[0m\u001b[32mWindows-10-10.0.22621-SP0\u001b[0m\u001b[32m)\u001b[0m\u001b[32m'\u001b[0m                                         \u001b[2m                 \u001b[0m\n",
       "\u001b[2;36m                    \u001b[0m             \u001b[32m'Authorization'\u001b[0m: \u001b[32m'REDACTED'\u001b[0m                                      \u001b[2m                 \u001b[0m\n",
       "\u001b[2;36m                    \u001b[0m         A body is sent with the request                                      \u001b[2m                 \u001b[0m\n"
      ]
     },
     "metadata": {},
     "output_type": "display_data"
    },
    {
     "data": {
      "text/html": [
       "<pre style=\"white-space:pre;overflow-x:auto;line-height:normal;font-family:Menlo,'DejaVu Sans Mono',consolas,'Courier New',monospace\"><span style=\"color: #7fbfbf; text-decoration-color: #7fbfbf\">[12/21/23 23:28:19] </span><span style=\"color: #000080; text-decoration-color: #000080\">INFO    </span> Response status: <span style=\"color: #008080; text-decoration-color: #008080; font-weight: bold\">201</span>                                                 <a href=\"file://c:\\Escritorio\\Personal_brand\\Data_Science\\Portfolio\\python_envs\\projects_env\\Lib\\site-packages\\azure\\core\\pipeline\\policies\\_universal.py\" target=\"_blank\"><span style=\"color: #7f7f7f; text-decoration-color: #7f7f7f\">_universal.py</span></a><span style=\"color: #7f7f7f; text-decoration-color: #7f7f7f\">:</span><a href=\"file://c:\\Escritorio\\Personal_brand\\Data_Science\\Portfolio\\python_envs\\projects_env\\Lib\\site-packages\\azure\\core\\pipeline\\policies\\_universal.py#550\" target=\"_blank\"><span style=\"color: #7f7f7f; text-decoration-color: #7f7f7f\">550</span></a>\n",
       "<span style=\"color: #7fbfbf; text-decoration-color: #7fbfbf\">                    </span>         Response headers:                                                    <span style=\"color: #7f7f7f; text-decoration-color: #7f7f7f\">                 </span>\n",
       "<span style=\"color: #7fbfbf; text-decoration-color: #7fbfbf\">                    </span>             <span style=\"color: #008000; text-decoration-color: #008000\">'Content-Length'</span>: <span style=\"color: #008000; text-decoration-color: #008000\">'0'</span>                                            <span style=\"color: #7f7f7f; text-decoration-color: #7f7f7f\">                 </span>\n",
       "<span style=\"color: #7fbfbf; text-decoration-color: #7fbfbf\">                    </span>             <span style=\"color: #008000; text-decoration-color: #008000\">'Server'</span>: <span style=\"color: #008000; text-decoration-color: #008000\">'Windows-Azure-Blob/1.0 Microsoft-HTTPAPI/2.0'</span>         <span style=\"color: #7f7f7f; text-decoration-color: #7f7f7f\">                 </span>\n",
       "<span style=\"color: #7fbfbf; text-decoration-color: #7fbfbf\">                    </span>             <span style=\"color: #008000; text-decoration-color: #008000\">'x-ms-request-id'</span>: <span style=\"color: #008000; text-decoration-color: #008000\">'4880b830-301e-0019-388f-340997000000'</span>        <span style=\"color: #7f7f7f; text-decoration-color: #7f7f7f\">                 </span>\n",
       "<span style=\"color: #7fbfbf; text-decoration-color: #7fbfbf\">                    </span>             <span style=\"color: #008000; text-decoration-color: #008000\">'x-ms-client-request-id'</span>: <span style=\"color: #008000; text-decoration-color: #008000\">'88684c5f-a082-11ee-89cd-28cdc44cfc2c'</span> <span style=\"color: #7f7f7f; text-decoration-color: #7f7f7f\">                 </span>\n",
       "<span style=\"color: #7fbfbf; text-decoration-color: #7fbfbf\">                    </span>             <span style=\"color: #008000; text-decoration-color: #008000\">'x-ms-version'</span>: <span style=\"color: #008000; text-decoration-color: #008000\">'REDACTED'</span>                                       <span style=\"color: #7f7f7f; text-decoration-color: #7f7f7f\">                 </span>\n",
       "<span style=\"color: #7fbfbf; text-decoration-color: #7fbfbf\">                    </span>             <span style=\"color: #008000; text-decoration-color: #008000\">'x-ms-content-crc64'</span>: <span style=\"color: #008000; text-decoration-color: #008000\">'REDACTED'</span>                                 <span style=\"color: #7f7f7f; text-decoration-color: #7f7f7f\">                 </span>\n",
       "<span style=\"color: #7fbfbf; text-decoration-color: #7fbfbf\">                    </span>             <span style=\"color: #008000; text-decoration-color: #008000\">'x-ms-request-server-encrypted'</span>: <span style=\"color: #008000; text-decoration-color: #008000\">'REDACTED'</span>                      <span style=\"color: #7f7f7f; text-decoration-color: #7f7f7f\">                 </span>\n",
       "<span style=\"color: #7fbfbf; text-decoration-color: #7fbfbf\">                    </span>             <span style=\"color: #008000; text-decoration-color: #008000\">'Date'</span>: <span style=\"color: #008000; text-decoration-color: #008000\">'Fri, 22 Dec 2023 04:28:14 GMT'</span>                          <span style=\"color: #7f7f7f; text-decoration-color: #7f7f7f\">                 </span>\n",
       "</pre>\n"
      ],
      "text/plain": [
       "\u001b[2;36m[12/21/23 23:28:19]\u001b[0m\u001b[2;36m \u001b[0m\u001b[34mINFO    \u001b[0m Response status: \u001b[1;36m201\u001b[0m                                                 \u001b]8;id=190423;file://c:\\Escritorio\\Personal_brand\\Data_Science\\Portfolio\\python_envs\\projects_env\\Lib\\site-packages\\azure\\core\\pipeline\\policies\\_universal.py\u001b\\\u001b[2m_universal.py\u001b[0m\u001b]8;;\u001b\\\u001b[2m:\u001b[0m\u001b]8;id=545945;file://c:\\Escritorio\\Personal_brand\\Data_Science\\Portfolio\\python_envs\\projects_env\\Lib\\site-packages\\azure\\core\\pipeline\\policies\\_universal.py#550\u001b\\\u001b[2m550\u001b[0m\u001b]8;;\u001b\\\n",
       "\u001b[2;36m                    \u001b[0m         Response headers:                                                    \u001b[2m                 \u001b[0m\n",
       "\u001b[2;36m                    \u001b[0m             \u001b[32m'Content-Length'\u001b[0m: \u001b[32m'0'\u001b[0m                                            \u001b[2m                 \u001b[0m\n",
       "\u001b[2;36m                    \u001b[0m             \u001b[32m'Server'\u001b[0m: \u001b[32m'Windows-Azure-Blob/1.0 Microsoft-HTTPAPI/2.0'\u001b[0m         \u001b[2m                 \u001b[0m\n",
       "\u001b[2;36m                    \u001b[0m             \u001b[32m'x-ms-request-id'\u001b[0m: \u001b[32m'4880b830-301e-0019-388f-340997000000'\u001b[0m        \u001b[2m                 \u001b[0m\n",
       "\u001b[2;36m                    \u001b[0m             \u001b[32m'x-ms-client-request-id'\u001b[0m: \u001b[32m'88684c5f-a082-11ee-89cd-28cdc44cfc2c'\u001b[0m \u001b[2m                 \u001b[0m\n",
       "\u001b[2;36m                    \u001b[0m             \u001b[32m'x-ms-version'\u001b[0m: \u001b[32m'REDACTED'\u001b[0m                                       \u001b[2m                 \u001b[0m\n",
       "\u001b[2;36m                    \u001b[0m             \u001b[32m'x-ms-content-crc64'\u001b[0m: \u001b[32m'REDACTED'\u001b[0m                                 \u001b[2m                 \u001b[0m\n",
       "\u001b[2;36m                    \u001b[0m             \u001b[32m'x-ms-request-server-encrypted'\u001b[0m: \u001b[32m'REDACTED'\u001b[0m                      \u001b[2m                 \u001b[0m\n",
       "\u001b[2;36m                    \u001b[0m             \u001b[32m'Date'\u001b[0m: \u001b[32m'Fri, 22 Dec 2023 04:28:14 GMT'\u001b[0m                          \u001b[2m                 \u001b[0m\n"
      ]
     },
     "metadata": {},
     "output_type": "display_data"
    },
    {
     "data": {
      "text/html": [
       "<pre style=\"white-space:pre;overflow-x:auto;line-height:normal;font-family:Menlo,'DejaVu Sans Mono',consolas,'Courier New',monospace\"><span style=\"color: #7fbfbf; text-decoration-color: #7fbfbf\">                    </span><span style=\"color: #000080; text-decoration-color: #000080\">INFO    </span> Request URL:                                                         <a href=\"file://c:\\Escritorio\\Personal_brand\\Data_Science\\Portfolio\\python_envs\\projects_env\\Lib\\site-packages\\azure\\core\\pipeline\\policies\\_universal.py\" target=\"_blank\"><span style=\"color: #7f7f7f; text-decoration-color: #7f7f7f\">_universal.py</span></a><span style=\"color: #7f7f7f; text-decoration-color: #7f7f7f\">:</span><a href=\"file://c:\\Escritorio\\Personal_brand\\Data_Science\\Portfolio\\python_envs\\projects_env\\Lib\\site-packages\\azure\\core\\pipeline\\policies\\_universal.py#511\" target=\"_blank\"><span style=\"color: #7f7f7f; text-decoration-color: #7f7f7f\">511</span></a>\n",
       "<span style=\"color: #7fbfbf; text-decoration-color: #7fbfbf\">                    </span>         <span style=\"color: #008000; text-decoration-color: #008000\">'https://storaccoprojectsdataeng.blob.core.windows.net/fbref-data/da</span> <span style=\"color: #7f7f7f; text-decoration-color: #7f7f7f\">                 </span>\n",
       "<span style=\"color: #7fbfbf; text-decoration-color: #7fbfbf\">                    </span>         <span style=\"color: #008000; text-decoration-color: #008000\">ta/team_season_stats_standard.csv?comp=REDACTED'</span>                     <span style=\"color: #7f7f7f; text-decoration-color: #7f7f7f\">                 </span>\n",
       "<span style=\"color: #7fbfbf; text-decoration-color: #7fbfbf\">                    </span>         Request method: <span style=\"color: #008000; text-decoration-color: #008000\">'</span><span style=\"color: #808000; text-decoration-color: #808000; font-weight: bold\">PUT</span><span style=\"color: #008000; text-decoration-color: #008000\">'</span>                                                <span style=\"color: #7f7f7f; text-decoration-color: #7f7f7f\">                 </span>\n",
       "<span style=\"color: #7fbfbf; text-decoration-color: #7fbfbf\">                    </span>         Request headers:                                                     <span style=\"color: #7f7f7f; text-decoration-color: #7f7f7f\">                 </span>\n",
       "<span style=\"color: #7fbfbf; text-decoration-color: #7fbfbf\">                    </span>             <span style=\"color: #008000; text-decoration-color: #008000\">'Content-Length'</span>: <span style=\"color: #008000; text-decoration-color: #008000\">'91'</span>                                           <span style=\"color: #7f7f7f; text-decoration-color: #7f7f7f\">                 </span>\n",
       "<span style=\"color: #7fbfbf; text-decoration-color: #7fbfbf\">                    </span>             <span style=\"color: #008000; text-decoration-color: #008000\">'x-ms-meta-is_directory'</span>: <span style=\"color: #008000; text-decoration-color: #008000\">'REDACTED'</span>                             <span style=\"color: #7f7f7f; text-decoration-color: #7f7f7f\">                 </span>\n",
       "<span style=\"color: #7fbfbf; text-decoration-color: #7fbfbf\">                    </span>             <span style=\"color: #008000; text-decoration-color: #008000\">'x-ms-version'</span>: <span style=\"color: #008000; text-decoration-color: #008000\">'REDACTED'</span>                                       <span style=\"color: #7f7f7f; text-decoration-color: #7f7f7f\">                 </span>\n",
       "<span style=\"color: #7fbfbf; text-decoration-color: #7fbfbf\">                    </span>             <span style=\"color: #008000; text-decoration-color: #008000\">'Content-Type'</span>: <span style=\"color: #008000; text-decoration-color: #008000\">'application/xml'</span>                                <span style=\"color: #7f7f7f; text-decoration-color: #7f7f7f\">                 </span>\n",
       "<span style=\"color: #7fbfbf; text-decoration-color: #7fbfbf\">                    </span>             <span style=\"color: #008000; text-decoration-color: #008000\">'Accept'</span>: <span style=\"color: #008000; text-decoration-color: #008000\">'application/xml'</span>                                      <span style=\"color: #7f7f7f; text-decoration-color: #7f7f7f\">                 </span>\n",
       "<span style=\"color: #7fbfbf; text-decoration-color: #7fbfbf\">                    </span>             <span style=\"color: #008000; text-decoration-color: #008000\">'x-ms-date'</span>: <span style=\"color: #008000; text-decoration-color: #008000\">'REDACTED'</span>                                          <span style=\"color: #7f7f7f; text-decoration-color: #7f7f7f\">                 </span>\n",
       "<span style=\"color: #7fbfbf; text-decoration-color: #7fbfbf\">                    </span>             <span style=\"color: #008000; text-decoration-color: #008000\">'x-ms-client-request-id'</span>: <span style=\"color: #008000; text-decoration-color: #008000\">'88770acb-a082-11ee-a2cc-28cdc44cfc2c'</span> <span style=\"color: #7f7f7f; text-decoration-color: #7f7f7f\">                 </span>\n",
       "<span style=\"color: #7fbfbf; text-decoration-color: #7fbfbf\">                    </span>             <span style=\"color: #008000; text-decoration-color: #008000\">'User-Agent'</span>: <span style=\"color: #008000; text-decoration-color: #008000\">'azsdk-python-storage-blob/12.19.0 Python/3.11.4 </span>  <span style=\"color: #7f7f7f; text-decoration-color: #7f7f7f\">                 </span>\n",
       "<span style=\"color: #7fbfbf; text-decoration-color: #7fbfbf\">                    </span>         <span style=\"color: #008000; text-decoration-color: #008000\">(Windows-10-10.0.22621-SP0)'</span>                                         <span style=\"color: #7f7f7f; text-decoration-color: #7f7f7f\">                 </span>\n",
       "<span style=\"color: #7fbfbf; text-decoration-color: #7fbfbf\">                    </span>             <span style=\"color: #008000; text-decoration-color: #008000\">'Authorization'</span>: <span style=\"color: #008000; text-decoration-color: #008000\">'REDACTED'</span>                                      <span style=\"color: #7f7f7f; text-decoration-color: #7f7f7f\">                 </span>\n",
       "<span style=\"color: #7fbfbf; text-decoration-color: #7fbfbf\">                    </span>         A body is sent with the request                                      <span style=\"color: #7f7f7f; text-decoration-color: #7f7f7f\">                 </span>\n",
       "</pre>\n"
      ],
      "text/plain": [
       "\u001b[2;36m                   \u001b[0m\u001b[2;36m \u001b[0m\u001b[34mINFO    \u001b[0m Request URL:                                                         \u001b]8;id=102089;file://c:\\Escritorio\\Personal_brand\\Data_Science\\Portfolio\\python_envs\\projects_env\\Lib\\site-packages\\azure\\core\\pipeline\\policies\\_universal.py\u001b\\\u001b[2m_universal.py\u001b[0m\u001b]8;;\u001b\\\u001b[2m:\u001b[0m\u001b]8;id=899724;file://c:\\Escritorio\\Personal_brand\\Data_Science\\Portfolio\\python_envs\\projects_env\\Lib\\site-packages\\azure\\core\\pipeline\\policies\\_universal.py#511\u001b\\\u001b[2m511\u001b[0m\u001b]8;;\u001b\\\n",
       "\u001b[2;36m                    \u001b[0m         \u001b[32m'https://storaccoprojectsdataeng.blob.core.windows.net/fbref-data/da\u001b[0m \u001b[2m                 \u001b[0m\n",
       "\u001b[2;36m                    \u001b[0m         \u001b[32mta/team_season_stats_standard.csv?\u001b[0m\u001b[32mcomp\u001b[0m\u001b[32m=\u001b[0m\u001b[32mREDACTED\u001b[0m\u001b[32m'\u001b[0m                     \u001b[2m                 \u001b[0m\n",
       "\u001b[2;36m                    \u001b[0m         Request method: \u001b[32m'\u001b[0m\u001b[1;33mPUT\u001b[0m\u001b[32m'\u001b[0m                                                \u001b[2m                 \u001b[0m\n",
       "\u001b[2;36m                    \u001b[0m         Request headers:                                                     \u001b[2m                 \u001b[0m\n",
       "\u001b[2;36m                    \u001b[0m             \u001b[32m'Content-Length'\u001b[0m: \u001b[32m'91'\u001b[0m                                           \u001b[2m                 \u001b[0m\n",
       "\u001b[2;36m                    \u001b[0m             \u001b[32m'x-ms-meta-is_directory'\u001b[0m: \u001b[32m'REDACTED'\u001b[0m                             \u001b[2m                 \u001b[0m\n",
       "\u001b[2;36m                    \u001b[0m             \u001b[32m'x-ms-version'\u001b[0m: \u001b[32m'REDACTED'\u001b[0m                                       \u001b[2m                 \u001b[0m\n",
       "\u001b[2;36m                    \u001b[0m             \u001b[32m'Content-Type'\u001b[0m: \u001b[32m'application/xml'\u001b[0m                                \u001b[2m                 \u001b[0m\n",
       "\u001b[2;36m                    \u001b[0m             \u001b[32m'Accept'\u001b[0m: \u001b[32m'application/xml'\u001b[0m                                      \u001b[2m                 \u001b[0m\n",
       "\u001b[2;36m                    \u001b[0m             \u001b[32m'x-ms-date'\u001b[0m: \u001b[32m'REDACTED'\u001b[0m                                          \u001b[2m                 \u001b[0m\n",
       "\u001b[2;36m                    \u001b[0m             \u001b[32m'x-ms-client-request-id'\u001b[0m: \u001b[32m'88770acb-a082-11ee-a2cc-28cdc44cfc2c'\u001b[0m \u001b[2m                 \u001b[0m\n",
       "\u001b[2;36m                    \u001b[0m             \u001b[32m'User-Agent'\u001b[0m: \u001b[32m'azsdk-python-storage-blob/12.19.0 Python/3.11.4 \u001b[0m  \u001b[2m                 \u001b[0m\n",
       "\u001b[2;36m                    \u001b[0m         \u001b[32m(\u001b[0m\u001b[32mWindows-10-10.0.22621-SP0\u001b[0m\u001b[32m)\u001b[0m\u001b[32m'\u001b[0m                                         \u001b[2m                 \u001b[0m\n",
       "\u001b[2;36m                    \u001b[0m             \u001b[32m'Authorization'\u001b[0m: \u001b[32m'REDACTED'\u001b[0m                                      \u001b[2m                 \u001b[0m\n",
       "\u001b[2;36m                    \u001b[0m         A body is sent with the request                                      \u001b[2m                 \u001b[0m\n"
      ]
     },
     "metadata": {},
     "output_type": "display_data"
    },
    {
     "data": {
      "text/html": [
       "<pre style=\"white-space:pre;overflow-x:auto;line-height:normal;font-family:Menlo,'DejaVu Sans Mono',consolas,'Courier New',monospace\"><span style=\"color: #7fbfbf; text-decoration-color: #7fbfbf\">                    </span><span style=\"color: #000080; text-decoration-color: #000080\">INFO    </span> Response status: <span style=\"color: #008080; text-decoration-color: #008080; font-weight: bold\">201</span>                                                 <a href=\"file://c:\\Escritorio\\Personal_brand\\Data_Science\\Portfolio\\python_envs\\projects_env\\Lib\\site-packages\\azure\\core\\pipeline\\policies\\_universal.py\" target=\"_blank\"><span style=\"color: #7f7f7f; text-decoration-color: #7f7f7f\">_universal.py</span></a><span style=\"color: #7f7f7f; text-decoration-color: #7f7f7f\">:</span><a href=\"file://c:\\Escritorio\\Personal_brand\\Data_Science\\Portfolio\\python_envs\\projects_env\\Lib\\site-packages\\azure\\core\\pipeline\\policies\\_universal.py#550\" target=\"_blank\"><span style=\"color: #7f7f7f; text-decoration-color: #7f7f7f\">550</span></a>\n",
       "<span style=\"color: #7fbfbf; text-decoration-color: #7fbfbf\">                    </span>         Response headers:                                                    <span style=\"color: #7f7f7f; text-decoration-color: #7f7f7f\">                 </span>\n",
       "<span style=\"color: #7fbfbf; text-decoration-color: #7fbfbf\">                    </span>             <span style=\"color: #008000; text-decoration-color: #008000\">'Content-Length'</span>: <span style=\"color: #008000; text-decoration-color: #008000\">'0'</span>                                            <span style=\"color: #7f7f7f; text-decoration-color: #7f7f7f\">                 </span>\n",
       "<span style=\"color: #7fbfbf; text-decoration-color: #7fbfbf\">                    </span>             <span style=\"color: #008000; text-decoration-color: #008000\">'Last-Modified'</span>: <span style=\"color: #008000; text-decoration-color: #008000\">'Fri, 22 Dec 2023 04:28:14 GMT'</span>                 <span style=\"color: #7f7f7f; text-decoration-color: #7f7f7f\">                 </span>\n",
       "<span style=\"color: #7fbfbf; text-decoration-color: #7fbfbf\">                    </span>             <span style=\"color: #008000; text-decoration-color: #008000\">'Etag'</span>: <span style=\"color: #008000; text-decoration-color: #008000\">'\"0x8DC02A66A365748\"'</span>                                    <span style=\"color: #7f7f7f; text-decoration-color: #7f7f7f\">                 </span>\n",
       "<span style=\"color: #7fbfbf; text-decoration-color: #7fbfbf\">                    </span>             <span style=\"color: #008000; text-decoration-color: #008000\">'Server'</span>: <span style=\"color: #008000; text-decoration-color: #008000\">'Windows-Azure-Blob/1.0 Microsoft-HTTPAPI/2.0'</span>         <span style=\"color: #7f7f7f; text-decoration-color: #7f7f7f\">                 </span>\n",
       "<span style=\"color: #7fbfbf; text-decoration-color: #7fbfbf\">                    </span>             <span style=\"color: #008000; text-decoration-color: #008000\">'x-ms-request-id'</span>: <span style=\"color: #008000; text-decoration-color: #008000\">'4880b85f-301e-0019-5f8f-340997000000'</span>        <span style=\"color: #7f7f7f; text-decoration-color: #7f7f7f\">                 </span>\n",
       "<span style=\"color: #7fbfbf; text-decoration-color: #7fbfbf\">                    </span>             <span style=\"color: #008000; text-decoration-color: #008000\">'x-ms-client-request-id'</span>: <span style=\"color: #008000; text-decoration-color: #008000\">'88770acb-a082-11ee-a2cc-28cdc44cfc2c'</span> <span style=\"color: #7f7f7f; text-decoration-color: #7f7f7f\">                 </span>\n",
       "<span style=\"color: #7fbfbf; text-decoration-color: #7fbfbf\">                    </span>             <span style=\"color: #008000; text-decoration-color: #008000\">'x-ms-version'</span>: <span style=\"color: #008000; text-decoration-color: #008000\">'REDACTED'</span>                                       <span style=\"color: #7f7f7f; text-decoration-color: #7f7f7f\">                 </span>\n",
       "<span style=\"color: #7fbfbf; text-decoration-color: #7fbfbf\">                    </span>             <span style=\"color: #008000; text-decoration-color: #008000\">'x-ms-content-crc64'</span>: <span style=\"color: #008000; text-decoration-color: #008000\">'REDACTED'</span>                                 <span style=\"color: #7f7f7f; text-decoration-color: #7f7f7f\">                 </span>\n",
       "<span style=\"color: #7fbfbf; text-decoration-color: #7fbfbf\">                    </span>             <span style=\"color: #008000; text-decoration-color: #008000\">'x-ms-request-server-encrypted'</span>: <span style=\"color: #008000; text-decoration-color: #008000\">'REDACTED'</span>                      <span style=\"color: #7f7f7f; text-decoration-color: #7f7f7f\">                 </span>\n",
       "<span style=\"color: #7fbfbf; text-decoration-color: #7fbfbf\">                    </span>             <span style=\"color: #008000; text-decoration-color: #008000\">'Date'</span>: <span style=\"color: #008000; text-decoration-color: #008000\">'Fri, 22 Dec 2023 04:28:14 GMT'</span>                          <span style=\"color: #7f7f7f; text-decoration-color: #7f7f7f\">                 </span>\n",
       "</pre>\n"
      ],
      "text/plain": [
       "\u001b[2;36m                   \u001b[0m\u001b[2;36m \u001b[0m\u001b[34mINFO    \u001b[0m Response status: \u001b[1;36m201\u001b[0m                                                 \u001b]8;id=594359;file://c:\\Escritorio\\Personal_brand\\Data_Science\\Portfolio\\python_envs\\projects_env\\Lib\\site-packages\\azure\\core\\pipeline\\policies\\_universal.py\u001b\\\u001b[2m_universal.py\u001b[0m\u001b]8;;\u001b\\\u001b[2m:\u001b[0m\u001b]8;id=129404;file://c:\\Escritorio\\Personal_brand\\Data_Science\\Portfolio\\python_envs\\projects_env\\Lib\\site-packages\\azure\\core\\pipeline\\policies\\_universal.py#550\u001b\\\u001b[2m550\u001b[0m\u001b]8;;\u001b\\\n",
       "\u001b[2;36m                    \u001b[0m         Response headers:                                                    \u001b[2m                 \u001b[0m\n",
       "\u001b[2;36m                    \u001b[0m             \u001b[32m'Content-Length'\u001b[0m: \u001b[32m'0'\u001b[0m                                            \u001b[2m                 \u001b[0m\n",
       "\u001b[2;36m                    \u001b[0m             \u001b[32m'Last-Modified'\u001b[0m: \u001b[32m'Fri, 22 Dec 2023 04:28:14 GMT'\u001b[0m                 \u001b[2m                 \u001b[0m\n",
       "\u001b[2;36m                    \u001b[0m             \u001b[32m'Etag'\u001b[0m: \u001b[32m'\"0x8DC02A66A365748\"'\u001b[0m                                    \u001b[2m                 \u001b[0m\n",
       "\u001b[2;36m                    \u001b[0m             \u001b[32m'Server'\u001b[0m: \u001b[32m'Windows-Azure-Blob/1.0 Microsoft-HTTPAPI/2.0'\u001b[0m         \u001b[2m                 \u001b[0m\n",
       "\u001b[2;36m                    \u001b[0m             \u001b[32m'x-ms-request-id'\u001b[0m: \u001b[32m'4880b85f-301e-0019-5f8f-340997000000'\u001b[0m        \u001b[2m                 \u001b[0m\n",
       "\u001b[2;36m                    \u001b[0m             \u001b[32m'x-ms-client-request-id'\u001b[0m: \u001b[32m'88770acb-a082-11ee-a2cc-28cdc44cfc2c'\u001b[0m \u001b[2m                 \u001b[0m\n",
       "\u001b[2;36m                    \u001b[0m             \u001b[32m'x-ms-version'\u001b[0m: \u001b[32m'REDACTED'\u001b[0m                                       \u001b[2m                 \u001b[0m\n",
       "\u001b[2;36m                    \u001b[0m             \u001b[32m'x-ms-content-crc64'\u001b[0m: \u001b[32m'REDACTED'\u001b[0m                                 \u001b[2m                 \u001b[0m\n",
       "\u001b[2;36m                    \u001b[0m             \u001b[32m'x-ms-request-server-encrypted'\u001b[0m: \u001b[32m'REDACTED'\u001b[0m                      \u001b[2m                 \u001b[0m\n",
       "\u001b[2;36m                    \u001b[0m             \u001b[32m'Date'\u001b[0m: \u001b[32m'Fri, 22 Dec 2023 04:28:14 GMT'\u001b[0m                          \u001b[2m                 \u001b[0m\n"
      ]
     },
     "metadata": {},
     "output_type": "display_data"
    }
   ],
   "source": [
    "process_team_season_stats(fbref, \"standard\")"
   ]
  },
  {
   "cell_type": "code",
   "execution_count": null,
   "metadata": {},
   "outputs": [],
   "source": []
  }
 ],
 "metadata": {
  "kernelspec": {
   "display_name": "projects_env",
   "language": "python",
   "name": "python3"
  },
  "language_info": {
   "codemirror_mode": {
    "name": "ipython",
    "version": 3
   },
   "file_extension": ".py",
   "mimetype": "text/x-python",
   "name": "python",
   "nbconvert_exporter": "python",
   "pygments_lexer": "ipython3",
   "version": "3.11.4"
  }
 },
 "nbformat": 4,
 "nbformat_minor": 2
}
