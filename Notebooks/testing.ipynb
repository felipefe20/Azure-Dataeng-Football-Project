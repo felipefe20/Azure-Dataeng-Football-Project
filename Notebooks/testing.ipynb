{
 "cells": [
  {
   "cell_type": "code",
   "execution_count": 1,
   "metadata": {},
   "outputs": [
    {
     "data": {
      "text/html": [
       "<pre style=\"white-space:pre;overflow-x:auto;line-height:normal;font-family:Menlo,'DejaVu Sans Mono',consolas,'Courier New',monospace\"><span style=\"color: #7fbfbf; text-decoration-color: #7fbfbf\">[01/22/24 17:26:53] </span><span style=\"color: #000080; text-decoration-color: #000080\">INFO    </span> No custom team name replacements found. You can configure these in       <a href=\"file://c:\\Escritorio\\Personal_brand\\Data_Science\\Portfolio\\python_envs\\projects_env\\Lib\\site-packages\\soccerdata\\_config.py\" target=\"_blank\"><span style=\"color: #7f7f7f; text-decoration-color: #7f7f7f\">_config.py</span></a><span style=\"color: #7f7f7f; text-decoration-color: #7f7f7f\">:</span><a href=\"file://c:\\Escritorio\\Personal_brand\\Data_Science\\Portfolio\\python_envs\\projects_env\\Lib\\site-packages\\soccerdata\\_config.py#84\" target=\"_blank\"><span style=\"color: #7f7f7f; text-decoration-color: #7f7f7f\">84</span></a>\n",
       "<span style=\"color: #7fbfbf; text-decoration-color: #7fbfbf\">                    </span>         C:\\Users\\ofeli\\soccerdata\\config\\teamname_replacements.json.             <span style=\"color: #7f7f7f; text-decoration-color: #7f7f7f\">             </span>\n",
       "</pre>\n"
      ],
      "text/plain": [
       "\u001b[2;36m[01/22/24 17:26:53]\u001b[0m\u001b[2;36m \u001b[0m\u001b[34mINFO    \u001b[0m No custom team name replacements found. You can configure these in       \u001b]8;id=846675;file://c:\\Escritorio\\Personal_brand\\Data_Science\\Portfolio\\python_envs\\projects_env\\Lib\\site-packages\\soccerdata\\_config.py\u001b\\\u001b[2m_config.py\u001b[0m\u001b]8;;\u001b\\\u001b[2m:\u001b[0m\u001b]8;id=860313;file://c:\\Escritorio\\Personal_brand\\Data_Science\\Portfolio\\python_envs\\projects_env\\Lib\\site-packages\\soccerdata\\_config.py#84\u001b\\\u001b[2m84\u001b[0m\u001b]8;;\u001b\\\n",
       "\u001b[2;36m                    \u001b[0m         C:\\Users\\ofeli\\soccerdata\\config\\teamname_replacements.json.             \u001b[2m             \u001b[0m\n"
      ]
     },
     "metadata": {},
     "output_type": "display_data"
    },
    {
     "data": {
      "text/html": [
       "<pre style=\"white-space:pre;overflow-x:auto;line-height:normal;font-family:Menlo,'DejaVu Sans Mono',consolas,'Courier New',monospace\"><span style=\"color: #7fbfbf; text-decoration-color: #7fbfbf\">                    </span><span style=\"color: #000080; text-decoration-color: #000080\">INFO    </span> No custom league dict found. You can configure additional leagues in    <a href=\"file://c:\\Escritorio\\Personal_brand\\Data_Science\\Portfolio\\python_envs\\projects_env\\Lib\\site-packages\\soccerdata\\_config.py\" target=\"_blank\"><span style=\"color: #7f7f7f; text-decoration-color: #7f7f7f\">_config.py</span></a><span style=\"color: #7f7f7f; text-decoration-color: #7f7f7f\">:</span><a href=\"file://c:\\Escritorio\\Personal_brand\\Data_Science\\Portfolio\\python_envs\\projects_env\\Lib\\site-packages\\soccerdata\\_config.py#162\" target=\"_blank\"><span style=\"color: #7f7f7f; text-decoration-color: #7f7f7f\">162</span></a>\n",
       "<span style=\"color: #7fbfbf; text-decoration-color: #7fbfbf\">                    </span>         C:\\Users\\ofeli\\soccerdata\\config\\league_dict.json.                      <span style=\"color: #7f7f7f; text-decoration-color: #7f7f7f\">              </span>\n",
       "</pre>\n"
      ],
      "text/plain": [
       "\u001b[2;36m                   \u001b[0m\u001b[2;36m \u001b[0m\u001b[34mINFO    \u001b[0m No custom league dict found. You can configure additional leagues in    \u001b]8;id=756763;file://c:\\Escritorio\\Personal_brand\\Data_Science\\Portfolio\\python_envs\\projects_env\\Lib\\site-packages\\soccerdata\\_config.py\u001b\\\u001b[2m_config.py\u001b[0m\u001b]8;;\u001b\\\u001b[2m:\u001b[0m\u001b]8;id=65451;file://c:\\Escritorio\\Personal_brand\\Data_Science\\Portfolio\\python_envs\\projects_env\\Lib\\site-packages\\soccerdata\\_config.py#162\u001b\\\u001b[2m162\u001b[0m\u001b]8;;\u001b\\\n",
       "\u001b[2;36m                    \u001b[0m         C:\\Users\\ofeli\\soccerdata\\config\\league_dict.json.                      \u001b[2m              \u001b[0m\n"
      ]
     },
     "metadata": {},
     "output_type": "display_data"
    },
    {
     "data": {
      "text/html": [
       "<pre style=\"white-space:pre;overflow-x:auto;line-height:normal;font-family:Menlo,'DejaVu Sans Mono',consolas,'Courier New',monospace\"><span style=\"color: #7fbfbf; text-decoration-color: #7fbfbf\">                    </span><span style=\"color: #000080; text-decoration-color: #000080\">INFO    </span> Saving cached data to C:\\Users\\ofeli\\soccerdata\\data\\FBref               <a href=\"file://c:\\Escritorio\\Personal_brand\\Data_Science\\Portfolio\\python_envs\\projects_env\\Lib\\site-packages\\soccerdata\\_common.py\" target=\"_blank\"><span style=\"color: #7f7f7f; text-decoration-color: #7f7f7f\">_common.py</span></a><span style=\"color: #7f7f7f; text-decoration-color: #7f7f7f\">:</span><a href=\"file://c:\\Escritorio\\Personal_brand\\Data_Science\\Portfolio\\python_envs\\projects_env\\Lib\\site-packages\\soccerdata\\_common.py#91\" target=\"_blank\"><span style=\"color: #7f7f7f; text-decoration-color: #7f7f7f\">91</span></a>\n",
       "</pre>\n"
      ],
      "text/plain": [
       "\u001b[2;36m                   \u001b[0m\u001b[2;36m \u001b[0m\u001b[34mINFO    \u001b[0m Saving cached data to C:\\Users\\ofeli\\soccerdata\\data\\FBref               \u001b]8;id=102608;file://c:\\Escritorio\\Personal_brand\\Data_Science\\Portfolio\\python_envs\\projects_env\\Lib\\site-packages\\soccerdata\\_common.py\u001b\\\u001b[2m_common.py\u001b[0m\u001b]8;;\u001b\\\u001b[2m:\u001b[0m\u001b]8;id=925818;file://c:\\Escritorio\\Personal_brand\\Data_Science\\Portfolio\\python_envs\\projects_env\\Lib\\site-packages\\soccerdata\\_common.py#91\u001b\\\u001b[2m91\u001b[0m\u001b]8;;\u001b\\\n"
      ]
     },
     "metadata": {},
     "output_type": "display_data"
    },
    {
     "name": "stderr",
     "output_type": "stream",
     "text": [
      "c:\\Escritorio\\Personal_brand\\Data_Science\\Portfolio\\python_envs\\projects_env\\Lib\\site-packages\\soccerdata\\_common.py:482: UserWarning: Season id \"2021\" is ambiguous: interpreting as \"20-21\"\n",
      "  warnings.warn(msg, stacklevel=1)\n"
     ]
    },
    {
     "data": {
      "text/html": [
       "<div>\n",
       "<style scoped>\n",
       "    .dataframe tbody tr th:only-of-type {\n",
       "        vertical-align: middle;\n",
       "    }\n",
       "\n",
       "    .dataframe tbody tr th {\n",
       "        vertical-align: top;\n",
       "    }\n",
       "\n",
       "    .dataframe thead th {\n",
       "        text-align: right;\n",
       "    }\n",
       "</style>\n",
       "<table border=\"1\" class=\"dataframe\">\n",
       "  <thead>\n",
       "    <tr style=\"text-align: right;\">\n",
       "      <th></th>\n",
       "      <th></th>\n",
       "      <th>format</th>\n",
       "      <th>url</th>\n",
       "    </tr>\n",
       "    <tr>\n",
       "      <th>league</th>\n",
       "      <th>season</th>\n",
       "      <th></th>\n",
       "      <th></th>\n",
       "    </tr>\n",
       "  </thead>\n",
       "  <tbody>\n",
       "    <tr>\n",
       "      <th>ENG-Premier League</th>\n",
       "      <th>2021</th>\n",
       "      <td>round-robin</td>\n",
       "      <td>/en/comps/9/2020-2021/2020-2021-Premier-League...</td>\n",
       "    </tr>\n",
       "    <tr>\n",
       "      <th>ESP-La Liga</th>\n",
       "      <th>2021</th>\n",
       "      <td>round-robin</td>\n",
       "      <td>/en/comps/12/2020-2021/2020-2021-La-Liga-Stats</td>\n",
       "    </tr>\n",
       "    <tr>\n",
       "      <th>FRA-Ligue 1</th>\n",
       "      <th>2021</th>\n",
       "      <td>round-robin</td>\n",
       "      <td>/en/comps/13/2020-2021/2020-2021-Ligue-1-Stats</td>\n",
       "    </tr>\n",
       "    <tr>\n",
       "      <th>GER-Bundesliga</th>\n",
       "      <th>2021</th>\n",
       "      <td>round-robin</td>\n",
       "      <td>/en/comps/20/2020-2021/2020-2021-Bundesliga-Stats</td>\n",
       "    </tr>\n",
       "    <tr>\n",
       "      <th>ITA-Serie A</th>\n",
       "      <th>2021</th>\n",
       "      <td>round-robin</td>\n",
       "      <td>/en/comps/11/2020-2021/2020-2021-Serie-A-Stats</td>\n",
       "    </tr>\n",
       "  </tbody>\n",
       "</table>\n",
       "</div>"
      ],
      "text/plain": [
       "                                format  \\\n",
       "league             season                \n",
       "ENG-Premier League 2021    round-robin   \n",
       "ESP-La Liga        2021    round-robin   \n",
       "FRA-Ligue 1        2021    round-robin   \n",
       "GER-Bundesliga     2021    round-robin   \n",
       "ITA-Serie A        2021    round-robin   \n",
       "\n",
       "                                                                         url  \n",
       "league             season                                                     \n",
       "ENG-Premier League 2021    /en/comps/9/2020-2021/2020-2021-Premier-League...  \n",
       "ESP-La Liga        2021       /en/comps/12/2020-2021/2020-2021-La-Liga-Stats  \n",
       "FRA-Ligue 1        2021       /en/comps/13/2020-2021/2020-2021-Ligue-1-Stats  \n",
       "GER-Bundesliga     2021    /en/comps/20/2020-2021/2020-2021-Bundesliga-Stats  \n",
       "ITA-Serie A        2021       /en/comps/11/2020-2021/2020-2021-Serie-A-Stats  "
      ]
     },
     "execution_count": 1,
     "metadata": {},
     "output_type": "execute_result"
    }
   ],
   "source": [
    "import soccerdata as sd\n",
    "import pandas as pd\n",
    "\n",
    "BIG_FIVE_DICT = {\n",
    "    \"Serie A\": \"ITA-Serie A\",\n",
    "    \"Ligue 1\": \"FRA-Ligue 1\",\n",
    "    \"La Liga\": \"ESP-La Liga\",\n",
    "    \"Premier League\": \"ENG-Premier League\",\n",
    "    \"Bundesliga\": \"GER-Bundesliga\",\n",
    "}\n",
    "\n",
    "\n",
    "\"Big 5 European Leagues Combined\"\n",
    "\n",
    "\n",
    "fbref = sd.FBref(leagues=\"Big 5 European Leagues Combined\", seasons=2021)\n",
    "\n",
    "fbref.read_seasons(split_up_big5=True)"
   ]
  },
  {
   "cell_type": "code",
   "execution_count": 24,
   "metadata": {},
   "outputs": [],
   "source": [
    "\n",
    "\n",
    "def process_team_season_stats(fbref, stat_type):\n",
    "\n",
    "    for stat_type in team_season_stats_type:\n",
    "        team_season_stats = fbref.read_team_season_stats(stat_type=stat_type)\n",
    "        try:\n",
    "            team_season_stats2 = team_season_stats.droplevel(0, axis=1)\n",
    "            team_season_stats2.columns = [col[0] + \"_\" + col[1] for col in team_season_stats.columns]\n",
    "        except:\n",
    "            pass\n",
    "\n",
    "        team_season_stats2 = team_season_stats2.reset_index()\n",
    "\n",
    "        #team_season_stats2.to_csv(\"../data/team_season_stats_\" + stat_type + \".csv\", index=False)\n",
    "        file_name=\"team_season_stats_\" + stat_type + \".csv\"\n",
    "        \n",
    "        original_data=pd.read_csv(\"../data/\" + file_name)\n",
    "\n",
    "        concat_data=pd.concat([original_data,team_season_stats2],axis=0)\n",
    "\n",
    "        #check for duplicated rows\n",
    "        concat_data.drop_duplicates(inplace=True)\n",
    "\n",
    "        concat_data.to_csv(\"../data/\" + file_name, index=False)\n",
    "        \n",
    "        #team_season_stats2.to_csv('abfs://fbref-data@storaccoprojectsdataeng.dfs.core.windows.net/raw_data/' + file_name,\n",
    "        #            storage_options={\n",
    "        #                'account_key': 'DClO+P5yffQRLw2poxM4/meEQiSKI3HlbYxcPjX+l2RP04l7i3/lcqjnCuna6rSIejapOqMiLBwD+AStuGjjGA=='\n",
    "        #            }, index=False)\n",
    "\n"
   ]
  },
  {
   "cell_type": "code",
   "execution_count": null,
   "metadata": {},
   "outputs": [],
   "source": [
    "team_season_stats_type = [\n",
    "            \"standard\",\n",
    "            \"keeper\",\n",
    "            \"keeper_adv\",\n",
    "            \"shooting\",\n",
    "            \"passing\",\n",
    "            \"passing_types\",\n",
    "            \"goal_shot_creation\",\n",
    "            \"defense\",\n",
    "            \"possession\",\n",
    "            \"playing_time\",\n",
    "            \"misc\",\n",
    "        ]\n",
    "for year in range(2017, 2023):\n",
    "    fbref = sd.FBref(leagues=\"Big 5 European Leagues Combined\", seasons=str(year))\n",
    "    fbref.read_seasons(split_up_big5=True)\n",
    "\n",
    "    for stat_type in team_season_stats_type[:2]:\n",
    "        process_team_season_stats(fbref, stat_type)"
   ]
  },
  {
   "cell_type": "code",
   "execution_count": 6,
   "metadata": {},
   "outputs": [
    {
     "data": {
      "text/html": [
       "<pre style=\"white-space:pre;overflow-x:auto;line-height:normal;font-family:Menlo,'DejaVu Sans Mono',consolas,'Courier New',monospace\"><span style=\"color: #7fbfbf; text-decoration-color: #7fbfbf\">[01/22/24 17:58:03] </span><span style=\"color: #000080; text-decoration-color: #000080\">INFO    </span> Saving cached data to C:\\Users\\ofeli\\soccerdata\\data\\FBref               <a href=\"file://c:\\Escritorio\\Personal_brand\\Data_Science\\Portfolio\\python_envs\\projects_env\\Lib\\site-packages\\soccerdata\\_common.py\" target=\"_blank\"><span style=\"color: #7f7f7f; text-decoration-color: #7f7f7f\">_common.py</span></a><span style=\"color: #7f7f7f; text-decoration-color: #7f7f7f\">:</span><a href=\"file://c:\\Escritorio\\Personal_brand\\Data_Science\\Portfolio\\python_envs\\projects_env\\Lib\\site-packages\\soccerdata\\_common.py#91\" target=\"_blank\"><span style=\"color: #7f7f7f; text-decoration-color: #7f7f7f\">91</span></a>\n",
       "</pre>\n"
      ],
      "text/plain": [
       "\u001b[2;36m[01/22/24 17:58:03]\u001b[0m\u001b[2;36m \u001b[0m\u001b[34mINFO    \u001b[0m Saving cached data to C:\\Users\\ofeli\\soccerdata\\data\\FBref               \u001b]8;id=72848;file://c:\\Escritorio\\Personal_brand\\Data_Science\\Portfolio\\python_envs\\projects_env\\Lib\\site-packages\\soccerdata\\_common.py\u001b\\\u001b[2m_common.py\u001b[0m\u001b]8;;\u001b\\\u001b[2m:\u001b[0m\u001b]8;id=323957;file://c:\\Escritorio\\Personal_brand\\Data_Science\\Portfolio\\python_envs\\projects_env\\Lib\\site-packages\\soccerdata\\_common.py#91\u001b\\\u001b[2m91\u001b[0m\u001b]8;;\u001b\\\n"
      ]
     },
     "metadata": {},
     "output_type": "display_data"
    },
    {
     "data": {
      "text/html": [
       "<pre style=\"white-space:pre;overflow-x:auto;line-height:normal;font-family:Menlo,'DejaVu Sans Mono',consolas,'Courier New',monospace\"><span style=\"color: #7fbfbf; text-decoration-color: #7fbfbf\">[01/22/24 18:01:23] </span><span style=\"color: #000080; text-decoration-color: #000080\">INFO    </span> Saving cached data to C:\\Users\\ofeli\\soccerdata\\data\\FBref               <a href=\"file://c:\\Escritorio\\Personal_brand\\Data_Science\\Portfolio\\python_envs\\projects_env\\Lib\\site-packages\\soccerdata\\_common.py\" target=\"_blank\"><span style=\"color: #7f7f7f; text-decoration-color: #7f7f7f\">_common.py</span></a><span style=\"color: #7f7f7f; text-decoration-color: #7f7f7f\">:</span><a href=\"file://c:\\Escritorio\\Personal_brand\\Data_Science\\Portfolio\\python_envs\\projects_env\\Lib\\site-packages\\soccerdata\\_common.py#91\" target=\"_blank\"><span style=\"color: #7f7f7f; text-decoration-color: #7f7f7f\">91</span></a>\n",
       "</pre>\n"
      ],
      "text/plain": [
       "\u001b[2;36m[01/22/24 18:01:23]\u001b[0m\u001b[2;36m \u001b[0m\u001b[34mINFO    \u001b[0m Saving cached data to C:\\Users\\ofeli\\soccerdata\\data\\FBref               \u001b]8;id=464323;file://c:\\Escritorio\\Personal_brand\\Data_Science\\Portfolio\\python_envs\\projects_env\\Lib\\site-packages\\soccerdata\\_common.py\u001b\\\u001b[2m_common.py\u001b[0m\u001b]8;;\u001b\\\u001b[2m:\u001b[0m\u001b]8;id=82133;file://c:\\Escritorio\\Personal_brand\\Data_Science\\Portfolio\\python_envs\\projects_env\\Lib\\site-packages\\soccerdata\\_common.py#91\u001b\\\u001b[2m91\u001b[0m\u001b]8;;\u001b\\\n"
      ]
     },
     "metadata": {},
     "output_type": "display_data"
    },
    {
     "data": {
      "text/html": [
       "<pre style=\"white-space:pre;overflow-x:auto;line-height:normal;font-family:Menlo,'DejaVu Sans Mono',consolas,'Courier New',monospace\"><span style=\"color: #7fbfbf; text-decoration-color: #7fbfbf\">[01/22/24 18:05:07] </span><span style=\"color: #000080; text-decoration-color: #000080\">INFO    </span> Saving cached data to C:\\Users\\ofeli\\soccerdata\\data\\FBref               <a href=\"file://c:\\Escritorio\\Personal_brand\\Data_Science\\Portfolio\\python_envs\\projects_env\\Lib\\site-packages\\soccerdata\\_common.py\" target=\"_blank\"><span style=\"color: #7f7f7f; text-decoration-color: #7f7f7f\">_common.py</span></a><span style=\"color: #7f7f7f; text-decoration-color: #7f7f7f\">:</span><a href=\"file://c:\\Escritorio\\Personal_brand\\Data_Science\\Portfolio\\python_envs\\projects_env\\Lib\\site-packages\\soccerdata\\_common.py#91\" target=\"_blank\"><span style=\"color: #7f7f7f; text-decoration-color: #7f7f7f\">91</span></a>\n",
       "</pre>\n"
      ],
      "text/plain": [
       "\u001b[2;36m[01/22/24 18:05:07]\u001b[0m\u001b[2;36m \u001b[0m\u001b[34mINFO    \u001b[0m Saving cached data to C:\\Users\\ofeli\\soccerdata\\data\\FBref               \u001b]8;id=798897;file://c:\\Escritorio\\Personal_brand\\Data_Science\\Portfolio\\python_envs\\projects_env\\Lib\\site-packages\\soccerdata\\_common.py\u001b\\\u001b[2m_common.py\u001b[0m\u001b]8;;\u001b\\\u001b[2m:\u001b[0m\u001b]8;id=522563;file://c:\\Escritorio\\Personal_brand\\Data_Science\\Portfolio\\python_envs\\projects_env\\Lib\\site-packages\\soccerdata\\_common.py#91\u001b\\\u001b[2m91\u001b[0m\u001b]8;;\u001b\\\n"
      ]
     },
     "metadata": {},
     "output_type": "display_data"
    },
    {
     "data": {
      "text/html": [
       "<pre style=\"white-space:pre;overflow-x:auto;line-height:normal;font-family:Menlo,'DejaVu Sans Mono',consolas,'Courier New',monospace\"><span style=\"color: #7fbfbf; text-decoration-color: #7fbfbf\">[01/22/24 18:09:03] </span><span style=\"color: #000080; text-decoration-color: #000080\">INFO    </span> Saving cached data to C:\\Users\\ofeli\\soccerdata\\data\\FBref               <a href=\"file://c:\\Escritorio\\Personal_brand\\Data_Science\\Portfolio\\python_envs\\projects_env\\Lib\\site-packages\\soccerdata\\_common.py\" target=\"_blank\"><span style=\"color: #7f7f7f; text-decoration-color: #7f7f7f\">_common.py</span></a><span style=\"color: #7f7f7f; text-decoration-color: #7f7f7f\">:</span><a href=\"file://c:\\Escritorio\\Personal_brand\\Data_Science\\Portfolio\\python_envs\\projects_env\\Lib\\site-packages\\soccerdata\\_common.py#91\" target=\"_blank\"><span style=\"color: #7f7f7f; text-decoration-color: #7f7f7f\">91</span></a>\n",
       "</pre>\n"
      ],
      "text/plain": [
       "\u001b[2;36m[01/22/24 18:09:03]\u001b[0m\u001b[2;36m \u001b[0m\u001b[34mINFO    \u001b[0m Saving cached data to C:\\Users\\ofeli\\soccerdata\\data\\FBref               \u001b]8;id=776429;file://c:\\Escritorio\\Personal_brand\\Data_Science\\Portfolio\\python_envs\\projects_env\\Lib\\site-packages\\soccerdata\\_common.py\u001b\\\u001b[2m_common.py\u001b[0m\u001b]8;;\u001b\\\u001b[2m:\u001b[0m\u001b]8;id=278247;file://c:\\Escritorio\\Personal_brand\\Data_Science\\Portfolio\\python_envs\\projects_env\\Lib\\site-packages\\soccerdata\\_common.py#91\u001b\\\u001b[2m91\u001b[0m\u001b]8;;\u001b\\\n"
      ]
     },
     "metadata": {},
     "output_type": "display_data"
    },
    {
     "data": {
      "text/html": [
       "<pre style=\"white-space:pre;overflow-x:auto;line-height:normal;font-family:Menlo,'DejaVu Sans Mono',consolas,'Courier New',monospace\"><span style=\"color: #7fbfbf; text-decoration-color: #7fbfbf\">[01/22/24 18:12:55] </span><span style=\"color: #000080; text-decoration-color: #000080\">INFO    </span> Saving cached data to C:\\Users\\ofeli\\soccerdata\\data\\FBref               <a href=\"file://c:\\Escritorio\\Personal_brand\\Data_Science\\Portfolio\\python_envs\\projects_env\\Lib\\site-packages\\soccerdata\\_common.py\" target=\"_blank\"><span style=\"color: #7f7f7f; text-decoration-color: #7f7f7f\">_common.py</span></a><span style=\"color: #7f7f7f; text-decoration-color: #7f7f7f\">:</span><a href=\"file://c:\\Escritorio\\Personal_brand\\Data_Science\\Portfolio\\python_envs\\projects_env\\Lib\\site-packages\\soccerdata\\_common.py#91\" target=\"_blank\"><span style=\"color: #7f7f7f; text-decoration-color: #7f7f7f\">91</span></a>\n",
       "</pre>\n"
      ],
      "text/plain": [
       "\u001b[2;36m[01/22/24 18:12:55]\u001b[0m\u001b[2;36m \u001b[0m\u001b[34mINFO    \u001b[0m Saving cached data to C:\\Users\\ofeli\\soccerdata\\data\\FBref               \u001b]8;id=27235;file://c:\\Escritorio\\Personal_brand\\Data_Science\\Portfolio\\python_envs\\projects_env\\Lib\\site-packages\\soccerdata\\_common.py\u001b\\\u001b[2m_common.py\u001b[0m\u001b]8;;\u001b\\\u001b[2m:\u001b[0m\u001b]8;id=485206;file://c:\\Escritorio\\Personal_brand\\Data_Science\\Portfolio\\python_envs\\projects_env\\Lib\\site-packages\\soccerdata\\_common.py#91\u001b\\\u001b[2m91\u001b[0m\u001b]8;;\u001b\\\n"
      ]
     },
     "metadata": {},
     "output_type": "display_data"
    },
    {
     "name": "stderr",
     "output_type": "stream",
     "text": [
      "c:\\Escritorio\\Personal_brand\\Data_Science\\Portfolio\\python_envs\\projects_env\\Lib\\site-packages\\soccerdata\\_common.py:482: UserWarning: Season id \"2021\" is ambiguous: interpreting as \"20-21\"\n",
      "  warnings.warn(msg, stacklevel=1)\n"
     ]
    },
    {
     "data": {
      "text/html": [
       "<pre style=\"white-space:pre;overflow-x:auto;line-height:normal;font-family:Menlo,'DejaVu Sans Mono',consolas,'Courier New',monospace\"><span style=\"color: #7fbfbf; text-decoration-color: #7fbfbf\">[01/22/24 18:14:00] </span><span style=\"color: #000080; text-decoration-color: #000080\">INFO    </span> Saving cached data to C:\\Users\\ofeli\\soccerdata\\data\\FBref               <a href=\"file://c:\\Escritorio\\Personal_brand\\Data_Science\\Portfolio\\python_envs\\projects_env\\Lib\\site-packages\\soccerdata\\_common.py\" target=\"_blank\"><span style=\"color: #7f7f7f; text-decoration-color: #7f7f7f\">_common.py</span></a><span style=\"color: #7f7f7f; text-decoration-color: #7f7f7f\">:</span><a href=\"file://c:\\Escritorio\\Personal_brand\\Data_Science\\Portfolio\\python_envs\\projects_env\\Lib\\site-packages\\soccerdata\\_common.py#91\" target=\"_blank\"><span style=\"color: #7f7f7f; text-decoration-color: #7f7f7f\">91</span></a>\n",
       "</pre>\n"
      ],
      "text/plain": [
       "\u001b[2;36m[01/22/24 18:14:00]\u001b[0m\u001b[2;36m \u001b[0m\u001b[34mINFO    \u001b[0m Saving cached data to C:\\Users\\ofeli\\soccerdata\\data\\FBref               \u001b]8;id=972270;file://c:\\Escritorio\\Personal_brand\\Data_Science\\Portfolio\\python_envs\\projects_env\\Lib\\site-packages\\soccerdata\\_common.py\u001b\\\u001b[2m_common.py\u001b[0m\u001b]8;;\u001b\\\u001b[2m:\u001b[0m\u001b]8;id=349436;file://c:\\Escritorio\\Personal_brand\\Data_Science\\Portfolio\\python_envs\\projects_env\\Lib\\site-packages\\soccerdata\\_common.py#91\u001b\\\u001b[2m91\u001b[0m\u001b]8;;\u001b\\\n"
      ]
     },
     "metadata": {},
     "output_type": "display_data"
    }
   ],
   "source": [
    "player_season_stats_types = [\n",
    "            \"standard\",\n",
    "            \"keeper\",\n",
    "            \"keeper_adv\",\n",
    "            \"shooting\",\n",
    "            \"passing\",\n",
    "            \"passing_types\",\n",
    "            \"goal_shot_creation\",\n",
    "            \"defense\",\n",
    "            \"possession\",\n",
    "            \"playing_time\",\n",
    "            \"misc\",\n",
    "        ]\n",
    "\n",
    "\n",
    "\n",
    "def process_players_season_stats(fbref, stat_type):\n",
    "    players_season_stats = fbref.read_player_season_stats(stat_type=stat_type)\n",
    "    try:\n",
    "        players_season_stats2 = players_season_stats.droplevel(0, axis=1)\n",
    "        players_season_stats2.columns = [col[0] + \"_\" + col[1] for col in players_season_stats.columns]\n",
    "    except:\n",
    "        pass\n",
    "\n",
    "    players_season_stats2 = players_season_stats2.reset_index()\n",
    "\n",
    "    file_name=\"players_season_stats_\" + stat_type + \".csv\"\n",
    "\n",
    "    original_data=pd.read_csv(\"../data/\" + file_name)\n",
    "\n",
    "    concat_data=pd.concat([original_data,players_season_stats2],axis=0)\n",
    "\n",
    "    #check for duplicated rows\n",
    "    concat_data.drop_duplicates(inplace=True)\n",
    "\n",
    "    concat_data.to_csv(\"../data/\" + file_name, index=False)\n",
    "\n",
    "    \n",
    "    concat_data.to_csv(\"../data/players_season_stats_\" + stat_type + \".csv\", index=False)\n",
    "\n",
    "\n",
    "for year in range(2017, 2023):\n",
    "    fbref = sd.FBref(leagues=\"Big 5 European Leagues Combined\", seasons=str(year))\n",
    "    fbref.read_seasons(split_up_big5=True)\n",
    "\n",
    "    for stat_type in player_season_stats_types:\n",
    "        process_players_season_stats(fbref, stat_type)\n"
   ]
  },
  {
   "cell_type": "code",
   "execution_count": null,
   "metadata": {},
   "outputs": [],
   "source": [
    "read_schedule()\n"
   ]
  },
  {
   "cell_type": "code",
   "execution_count": null,
   "metadata": {},
   "outputs": [],
   "source": [
    "player_match_stats = [\n",
    "            \"summary\",\n",
    "            \"keepers\",\n",
    "            \"passing\",\n",
    "            \"passing_types\",\n",
    "            \"defense\",\n",
    "            \"possession\",\n",
    "            \"misc\",\n",
    "        ]\n",
    "read_player_match_stats()\n",
    "\n",
    "\n"
   ]
  },
  {
   "cell_type": "code",
   "execution_count": null,
   "metadata": {},
   "outputs": [],
   "source": [
    "read_lineup()\n",
    "\n",
    "\n"
   ]
  },
  {
   "cell_type": "code",
   "execution_count": null,
   "metadata": {},
   "outputs": [],
   "source": []
  },
  {
   "cell_type": "code",
   "execution_count": null,
   "metadata": {},
   "outputs": [],
   "source": [
    "read_events()\n",
    "\n",
    "read_shot_events()\n",
    "\n",
    "\n"
   ]
  },
  {
   "cell_type": "code",
   "execution_count": null,
   "metadata": {},
   "outputs": [],
   "source": []
  },
  {
   "cell_type": "code",
   "execution_count": null,
   "metadata": {},
   "outputs": [],
   "source": []
  },
  {
   "cell_type": "code",
   "execution_count": null,
   "metadata": {},
   "outputs": [],
   "source": []
  }
 ],
 "metadata": {
  "kernelspec": {
   "display_name": "projects_env",
   "language": "python",
   "name": "python3"
  },
  "language_info": {
   "codemirror_mode": {
    "name": "ipython",
    "version": 3
   },
   "file_extension": ".py",
   "mimetype": "text/x-python",
   "name": "python",
   "nbconvert_exporter": "python",
   "pygments_lexer": "ipython3",
   "version": "3.11.4"
  }
 },
 "nbformat": 4,
 "nbformat_minor": 2
}
